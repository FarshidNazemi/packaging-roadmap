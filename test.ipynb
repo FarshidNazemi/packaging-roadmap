{
 "cells": [
  {
   "cell_type": "markdown",
   "id": "219c91c3-89ee-445c-986e-db8eb745b472",
   "metadata": {
    "tags": []
   },
   "source": [
    "# 1. General Problem Set-up"
   ]
  },
  {
   "cell_type": "markdown",
   "id": "d360e3fb-25ea-481f-9ad7-a328e0ab8a85",
   "metadata": {},
   "source": [
    "## Import packages"
   ]
  },
  {
   "cell_type": "code",
   "execution_count": 1,
   "id": "8528e657-f6aa-4367-b3df-92d22f5e9cab",
   "metadata": {},
   "outputs": [],
   "source": [
    "import pandas as pd\n",
    "import numpy as np"
   ]
  },
  {
   "cell_type": "markdown",
   "id": "bb89a1d0-4385-4a8a-8125-8001faad6a29",
   "metadata": {},
   "source": [
    "## Import LCA matrices from OpenLCA"
   ]
  },
  {
   "cell_type": "code",
   "execution_count": 2,
   "id": "317cbd1c-cf83-4c5c-b020-f888f300682b",
   "metadata": {},
   "outputs": [],
   "source": [
    "A_df = pd.read_csv(\"data/A.csv\", header=None)\n",
    "B_df = pd.read_csv(\"data/B.csv\", header=None)\n",
    "C_df = pd.read_csv(\"data/C.csv\", header=None)\n",
    "\n",
    "# Convert all string-looking numbers to floats\n",
    "A = A_df.apply(pd.to_numeric, errors='coerce').values\n",
    "B = B_df.apply(pd.to_numeric, errors='coerce').values\n",
    "C = C_df.apply(pd.to_numeric, errors='coerce').values"
   ]
  },
  {
   "cell_type": "code",
   "execution_count": 3,
   "id": "e7a29d4e-491b-4db8-8940-f27b33fc2432",
   "metadata": {},
   "outputs": [],
   "source": [
    "A_index_df = pd.read_csv(\"data/index_A.csv\")\n",
    "B_index_df = pd.read_csv(\"data/index_B.csv\")\n",
    "C_index_df = pd.read_csv(\"data/index_C.csv\")"
   ]
  },
  {
   "cell_type": "markdown",
   "id": "cfd3c91c-c688-4845-9dd3-0047aa3c84bc",
   "metadata": {},
   "source": [
    "## Removing Transportation (deregionalization)"
   ]
  },
  {
   "cell_type": "code",
   "execution_count": 4,
   "id": "ba0c573d-f4af-410f-b4b8-73eb44593f54",
   "metadata": {},
   "outputs": [],
   "source": [
    "A_transport_df = pd.read_csv(\"data/Transportation_A.csv\")"
   ]
  },
  {
   "cell_type": "code",
   "execution_count": 5,
   "id": "14477a7b-c1c3-4db9-a17a-d6fd552317c0",
   "metadata": {},
   "outputs": [],
   "source": [
    "# create a dict mapping each provider name to all its indices in A_index_df\n",
    "mapping = A_index_df.groupby('provider name')['index'].apply(list)\n",
    "\n",
    "# build a single flat list of all matching indices for the foreground processes\n",
    "matched_indices_transport = [\n",
    "    idx\n",
    "    for name in A_transport_df['provider name']\n",
    "    if name in mapping\n",
    "    for idx in mapping[name]\n",
    "]"
   ]
  },
  {
   "cell_type": "code",
   "execution_count": 6,
   "id": "3185e174-16e8-4be7-b1e4-bb93bfdba5d2",
   "metadata": {},
   "outputs": [],
   "source": [
    "import numpy as np\n",
    "\n",
    "# matched_indices_transport is the list of indices to remove\n",
    "to_drop = np.array(sorted(set(matched_indices_transport), key=int))\n",
    "\n",
    "# 1) Remove from A_index_df\n",
    "mask_keep = ~A_index_df['index'].isin(to_drop)\n",
    "A_index_df = A_index_df.loc[mask_keep].copy()\n",
    "\n",
    "# 2) Remove corresponding rows and columns from A\n",
    "A = np.delete(A, to_drop, axis=0)  # remove rows\n",
    "A = np.delete(A, to_drop, axis=1)  # remove columns\n",
    "\n",
    "# 3) Remove the same columns from B (keep rows)\n",
    "B = np.delete(B, to_drop, axis=1)\n",
    "\n",
    "# 4) Reset the index column in A_index_df\n",
    "A_index_df['index'] = np.arange(len(A_index_df), dtype=int)"
   ]
  },
  {
   "cell_type": "markdown",
   "id": "8b0c9543-2d28-4c36-9e6f-02c4f9afdf8c",
   "metadata": {},
   "source": [
    "## Aggregating electricity"
   ]
  },
  {
   "cell_type": "code",
   "execution_count": 7,
   "id": "80d9677d-e30f-49fd-9592-85e39589f1dc",
   "metadata": {},
   "outputs": [],
   "source": [
    "A_elec_df = pd.read_csv(\"data/Electricity_A.csv\")"
   ]
  },
  {
   "cell_type": "code",
   "execution_count": 8,
   "id": "1243f655-d9ab-449e-b82c-804562147bc7",
   "metadata": {},
   "outputs": [],
   "source": [
    "# Inputs assumed:\n",
    "# A : numeric numpy array (rows x cols)\n",
    "# A_index_df : DataFrame with columns [\"index\", \"provider name\", \"flow name\", ...]\n",
    "# A_elec_df : DataFrame with column [\"provider name\"] listing all electricity providers\n",
    "# The indices in A_index_df[\"index\"] align with both row and column positions of A.\n",
    "\n",
    "# 0) Build the set of electricity provider names\n",
    "elec_names = set(A_elec_df['provider name'].dropna().astype(str).unique())\n",
    "\n",
    "# 1) Find their indices in A_index_df\n",
    "elec_idx = A_index_df.loc[A_index_df['provider name'].astype(str).isin(elec_names), 'index'].astype(int).unique()\n",
    "\n",
    "# 2) Locate the mix row index (must exist)\n",
    "mix_name = \"Electricity Mix (Global)\"\n",
    "mix_rows = A_index_df.loc[A_index_df['provider name'] == mix_name, 'index'].astype(int).unique()\n",
    "if len(mix_rows) == 0:\n",
    "    raise ValueError(\"Electricity Mix (Global) not found in A_index_df['provider name'].\")\n",
    "mix_idx = int(mix_rows[0])\n",
    "\n",
    "# Ensure the mix row is not purged\n",
    "elec_idx_set = set(map(int, elec_idx))\n",
    "elec_idx_wo_mix = sorted(elec_idx_set - {mix_idx})\n",
    "\n",
    "# 3) Aggregate: add all electricity rows (except the mix row) into the mix row, column-wise\n",
    "if len(elec_idx_wo_mix) > 0:\n",
    "    # in case of NaNs\n",
    "    add_block = np.nansum(A[elec_idx_wo_mix, :], axis=0)\n",
    "    A[mix_idx, :] = np.nan_to_num(A[mix_idx, :]) + np.nan_to_num(add_block)\n",
    "\n",
    "# 4) Decide what to drop\n",
    "rows_to_drop = np.array(elec_idx_wo_mix, dtype=int)            # drop electricity rows except the mix row\n",
    "cols_to_drop = np.array(elec_idx_wo_mix, dtype=int)            # drop electricity columns except the mix column\n",
    "\n",
    "# (Optionally also drop the mix COLUMN; keep it if you want to retain that process as a column)\n",
    "# To ALSO drop the mix column, uncomment the next line:\n",
    "# cols_to_drop = np.array(sorted(elec_idx_set), dtype=int)\n",
    "\n",
    "# 5) Remove rows/columns from A\n",
    "if rows_to_drop.size > 0:\n",
    "    A = np.delete(A, rows_to_drop, axis=0)\n",
    "if cols_to_drop.size > 0:\n",
    "    A = np.delete(A, cols_to_drop, axis=1)\n",
    "\n",
    "# 6) Remove the same rows from A_index_df (only rows; columns in A_index_df are metadata)\n",
    "if len(elec_idx_wo_mix) > 0:\n",
    "    keep_mask = ~A_index_df['index'].astype(int).isin(elec_idx_wo_mix)\n",
    "    A_index_df = A_index_df.loc[keep_mask].copy()\n",
    "\n",
    "# 7) Reset the \"index\" column in A_index_df to reflect 0..n-1 after deletions\n",
    "A_index_df['index'] = np.arange(len(A_index_df), dtype=int)"
   ]
  },
  {
   "cell_type": "markdown",
   "id": "1002f8f6-b7a2-457b-84fd-122433189943",
   "metadata": {},
   "source": [
    "## Identifying background flows for cost calculation"
   ]
  },
  {
   "cell_type": "code",
   "execution_count": 9,
   "id": "6abc3af9-5e07-48e8-80bf-86359dfc5534",
   "metadata": {},
   "outputs": [],
   "source": [
    "A_foreground_df = pd.read_csv(\"data/Foreground_A.csv\")"
   ]
  },
  {
   "cell_type": "code",
   "execution_count": 11,
   "id": "e88ff9d5-13b0-4b33-9b18-45ea8daeb086",
   "metadata": {},
   "outputs": [],
   "source": [
    "import numpy as np\n",
    "import pandas as pd\n",
    "\n",
    "# Helper for consistent comparison\n",
    "norm = lambda s: str(s).strip().casefold()\n",
    "\n",
    "# Normalize keys\n",
    "A_index_df = A_index_df.copy()\n",
    "A_foreground_df = A_foreground_df.copy()\n",
    "A_index_df['provider_key'] = A_index_df['provider name'].map(norm)\n",
    "A_foreground_df['provider_key'] = A_foreground_df['provider name'].map(norm)\n",
    "\n",
    "# Build mapping from provider -> indices\n",
    "idx_map = (\n",
    "    A_index_df\n",
    "    .groupby('provider_key')['index']\n",
    "    .apply(lambda s: list(map(int, s)))\n",
    "    .to_dict()\n",
    ")\n",
    "\n",
    "# Foreground indices (to exclude later)\n",
    "matched_indices = sorted({\n",
    "    idx\n",
    "    for key in A_foreground_df['provider_key'].unique()\n",
    "    for idx in idx_map.get(key, [])\n",
    "})\n",
    "\n",
    "# Example: build all_nonzero from the numeric matrix A\n",
    "# (take all row indices with nonzero entries across the columns in matched_indices)\n",
    "all_nonzero = set()\n",
    "for col in matched_indices:\n",
    "    all_nonzero.update(np.nonzero(A[:, col])[0])\n",
    "\n",
    "# Remove overlap\n",
    "foreground_set = set(matched_indices)\n",
    "all_nonzero_set = {int(x) for x in all_nonzero}\n",
    "filtered_nonzero_rows = sorted(all_nonzero_set - foreground_set)\n"
   ]
  },
  {
   "cell_type": "code",
   "execution_count": 12,
   "id": "fd4a51dd-0bce-412e-8565-2546b418a2c2",
   "metadata": {},
   "outputs": [],
   "source": [
    "result_df = A_index_df[A_index_df['index'].isin(filtered_nonzero_rows)].copy()"
   ]
  },
  {
   "cell_type": "code",
   "execution_count": 13,
   "id": "ca834235-cc09-43db-95ee-bad708c136e1",
   "metadata": {},
   "outputs": [],
   "source": [
    "result_df.to_csv('filtered_nonzero_rows_with_names.csv', index=False)"
   ]
  },
  {
   "cell_type": "markdown",
   "id": "bc8cb8fc-75c1-429c-9a9d-60caabad1851",
   "metadata": {},
   "source": [
    "## Importing financial data for cost calculation"
   ]
  },
  {
   "cell_type": "code",
   "execution_count": 15,
   "id": "b92bafae-b1e8-44f6-9435-77b2bc891ac5",
   "metadata": {},
   "outputs": [],
   "source": [
    "financial_df = pd.read_csv(\"data/Financial.csv\", header=None)"
   ]
  },
  {
   "cell_type": "markdown",
   "id": "36be46d0-dd00-4f59-8bc9-def3f14e784a",
   "metadata": {},
   "source": [
    "# 2. Static Analysis"
   ]
  },
  {
   "cell_type": "markdown",
   "id": "e1e4fa3b-a1dd-4630-99df-bcce5a4250ba",
   "metadata": {},
   "source": [
    "## Scenario Generation"
   ]
  },
  {
   "cell_type": "markdown",
   "id": "741ed06f-ce44-49d6-854f-53c5a8298b2f",
   "metadata": {},
   "source": [
    "### Electricity Mix"
   ]
  },
  {
   "cell_type": "code",
   "execution_count": null,
   "id": "d0063c7c-bc37-44ed-b6ed-c335a6b23731",
   "metadata": {},
   "outputs": [],
   "source": [
    "electricity_mix_df = pd.read_csv(\"data/electricity_mix.csv\")"
   ]
  },
  {
   "cell_type": "markdown",
   "id": "7118e6ab-699d-4d6e-ab32-7fd06fff9c40",
   "metadata": {},
   "source": [
    "### Collection and Sorting"
   ]
  },
  {
   "cell_type": "code",
   "execution_count": null,
   "id": "925efc39-ff11-4ab6-ba19-06ffd143b180",
   "metadata": {},
   "outputs": [],
   "source": []
  }
 ],
 "metadata": {
  "kernelspec": {
   "display_name": "Python 3 (ipykernel)",
   "language": "python",
   "name": "python3"
  },
  "language_info": {
   "codemirror_mode": {
    "name": "ipython",
    "version": 3
   },
   "file_extension": ".py",
   "mimetype": "text/x-python",
   "name": "python",
   "nbconvert_exporter": "python",
   "pygments_lexer": "ipython3",
   "version": "3.9.13"
  }
 },
 "nbformat": 4,
 "nbformat_minor": 5
}
