{
 "cells": [
  {
   "cell_type": "markdown",
   "id": "219c91c3-89ee-445c-986e-db8eb745b472",
   "metadata": {
    "tags": []
   },
   "source": [
    "# 1. General Problem Set-up"
   ]
  },
  {
   "cell_type": "markdown",
   "id": "d360e3fb-25ea-481f-9ad7-a328e0ab8a85",
   "metadata": {},
   "source": [
    "## Import packages"
   ]
  },
  {
   "cell_type": "code",
   "execution_count": 1,
   "id": "8528e657-f6aa-4367-b3df-92d22f5e9cab",
   "metadata": {},
   "outputs": [],
   "source": [
    "import pandas as pd\n",
    "import numpy as np"
   ]
  },
  {
   "cell_type": "markdown",
   "id": "bb89a1d0-4385-4a8a-8125-8001faad6a29",
   "metadata": {},
   "source": [
    "## Import LCA matrices from OpenLCA"
   ]
  },
  {
   "cell_type": "code",
   "execution_count": 2,
   "id": "317cbd1c-cf83-4c5c-b020-f888f300682b",
   "metadata": {},
   "outputs": [],
   "source": [
    "A_df = pd.read_csv(\"data/A.csv\", header=None)\n",
    "B_df = pd.read_csv(\"data/B.csv\", header=None)\n",
    "C_df = pd.read_csv(\"data/C.csv\", header=None)\n",
    "\n",
    "# Convert all string-looking numbers to floats\n",
    "A = A_df.apply(pd.to_numeric, errors='coerce').values\n",
    "B = B_df.apply(pd.to_numeric, errors='coerce').values\n",
    "C = C_df.apply(pd.to_numeric, errors='coerce').values"
   ]
  },
  {
   "cell_type": "code",
   "execution_count": 3,
   "id": "e7a29d4e-491b-4db8-8940-f27b33fc2432",
   "metadata": {},
   "outputs": [],
   "source": [
    "A_index_df = pd.read_csv(\"data/index_A.csv\")\n",
    "B_index_df = pd.read_csv(\"data/index_B.csv\")\n",
    "C_index_df = pd.read_csv(\"data/index_C.csv\")"
   ]
  },
  {
   "cell_type": "markdown",
   "id": "cfd3c91c-c688-4845-9dd3-0047aa3c84bc",
   "metadata": {},
   "source": [
    "## Removing Transportation (deregionalization)"
   ]
  },
  {
   "cell_type": "code",
   "execution_count": 4,
   "id": "ba0c573d-f4af-410f-b4b8-73eb44593f54",
   "metadata": {},
   "outputs": [],
   "source": [
    "A_transport_df = pd.read_csv(\"data/Transportation_A.csv\")"
   ]
  },
  {
   "cell_type": "code",
   "execution_count": 5,
   "id": "14477a7b-c1c3-4db9-a17a-d6fd552317c0",
   "metadata": {},
   "outputs": [],
   "source": [
    "# create a dict mapping each provider name to all its indices in A_index_df\n",
    "mapping = A_index_df.groupby('provider name')['index'].apply(list)\n",
    "\n",
    "# build a single flat list of all matching indices for the foreground processes\n",
    "matched_indices_transport = [\n",
    "    idx\n",
    "    for name in A_transport_df['provider name']\n",
    "    if name in mapping\n",
    "    for idx in mapping[name]\n",
    "]"
   ]
  },
  {
   "cell_type": "code",
   "execution_count": 6,
   "id": "3185e174-16e8-4be7-b1e4-bb93bfdba5d2",
   "metadata": {},
   "outputs": [],
   "source": [
    "import numpy as np\n",
    "\n",
    "# matched_indices_transport is the list of indices to remove\n",
    "to_drop = np.array(sorted(set(matched_indices_transport), key=int))\n",
    "\n",
    "# 1) Remove from A_index_df\n",
    "mask_keep = ~A_index_df['index'].isin(to_drop)\n",
    "A_index_df = A_index_df.loc[mask_keep].copy()\n",
    "\n",
    "# 2) Remove corresponding rows and columns from A\n",
    "A = np.delete(A, to_drop, axis=0)  # remove rows\n",
    "A = np.delete(A, to_drop, axis=1)  # remove columns\n",
    "\n",
    "# 3) Remove the same columns from B (keep rows)\n",
    "B = np.delete(B, to_drop, axis=1)\n",
    "\n",
    "# 4) Reset the index column in A_index_df\n",
    "A_index_df['index'] = np.arange(len(A_index_df), dtype=int)"
   ]
  },
  {
   "cell_type": "markdown",
   "id": "8b0c9543-2d28-4c36-9e6f-02c4f9afdf8c",
   "metadata": {},
   "source": [
    "## Aggregating electricity"
   ]
  },
  {
   "cell_type": "code",
   "execution_count": 7,
   "id": "80d9677d-e30f-49fd-9592-85e39589f1dc",
   "metadata": {},
   "outputs": [],
   "source": [
    "A_elec_df = pd.read_csv(\"data/Electricity_A.csv\")"
   ]
  },
  {
   "cell_type": "code",
   "execution_count": 8,
   "id": "1243f655-d9ab-449e-b82c-804562147bc7",
   "metadata": {},
   "outputs": [],
   "source": [
    "# Inputs assumed:\n",
    "# A : numeric numpy array (rows x cols)\n",
    "# A_index_df : DataFrame with columns [\"index\", \"provider name\", \"flow name\", ...]\n",
    "# A_elec_df : DataFrame with column [\"provider name\"] listing all electricity providers\n",
    "# The indices in A_index_df[\"index\"] align with both row and column positions of A.\n",
    "\n",
    "# 0) Build the set of electricity provider names\n",
    "elec_names = set(A_elec_df['provider name'].dropna().astype(str).unique())\n",
    "\n",
    "# 1) Find their indices in A_index_df\n",
    "elec_idx = A_index_df.loc[A_index_df['provider name'].astype(str).isin(elec_names), 'index'].astype(int).unique()\n",
    "\n",
    "# 2) Locate the mix row index (must exist)\n",
    "mix_name = \"Electricity Mix (Global)\"\n",
    "mix_rows = A_index_df.loc[A_index_df['provider name'] == mix_name, 'index'].astype(int).unique()\n",
    "if len(mix_rows) == 0:\n",
    "    raise ValueError(\"Electricity Mix (Global) not found in A_index_df['provider name'].\")\n",
    "mix_idx = int(mix_rows[0])\n",
    "\n",
    "# Ensure the mix row is not purged\n",
    "elec_idx_set = set(map(int, elec_idx))\n",
    "elec_idx_wo_mix = sorted(elec_idx_set - {mix_idx})\n",
    "\n",
    "# 3) Aggregate: add all electricity rows (except the mix row) into the mix row, column-wise\n",
    "if len(elec_idx_wo_mix) > 0:\n",
    "    # in case of NaNs\n",
    "    add_block = np.nansum(A[elec_idx_wo_mix, :], axis=0)\n",
    "    A[mix_idx, :] = np.nan_to_num(A[mix_idx, :]) + np.nan_to_num(add_block)\n",
    "\n",
    "# 4) Decide what to drop\n",
    "rows_to_drop = np.array(elec_idx_wo_mix, dtype=int)            # drop electricity rows except the mix row\n",
    "cols_to_drop = np.array(elec_idx_wo_mix, dtype=int)            # drop electricity columns except the mix column\n",
    "\n",
    "# (Optionally also drop the mix COLUMN; keep it if you want to retain that process as a column)\n",
    "# To ALSO drop the mix column, uncomment the next line:\n",
    "# cols_to_drop = np.array(sorted(elec_idx_set), dtype=int)\n",
    "\n",
    "# 5) Remove rows/columns from A and columns from B\n",
    "if rows_to_drop.size > 0:\n",
    "    A = np.delete(A, rows_to_drop, axis=0)\n",
    "if cols_to_drop.size > 0:\n",
    "    A = np.delete(A, cols_to_drop, axis=1)\n",
    "    B = np.delete(B, cols_to_drop, axis=1)\n",
    "\n",
    "# 6) Remove the same rows from A_index_df (only rows; columns in A_index_df are metadata)\n",
    "if len(elec_idx_wo_mix) > 0:\n",
    "    keep_mask = ~A_index_df['index'].astype(int).isin(elec_idx_wo_mix)\n",
    "    A_index_df = A_index_df.loc[keep_mask].copy()\n",
    "\n",
    "# 7) Reset the \"index\" column in A_index_df to reflect 0..n-1 after deletions\n",
    "A_index_df['index'] = np.arange(len(A_index_df), dtype=int)"
   ]
  },
  {
   "cell_type": "code",
   "execution_count": 9,
   "id": "8228702f-a364-4426-82f8-2a7859d416da",
   "metadata": {},
   "outputs": [],
   "source": [
    "# Global Electricity Mix for 2025\n",
    "electricity_mix_df = pd.read_csv(\"data/electricity_mix.csv\")"
   ]
  },
  {
   "cell_type": "code",
   "execution_count": 10,
   "id": "44f77d49-934d-4059-8256-d30345caa184",
   "metadata": {},
   "outputs": [],
   "source": [
    "import numpy as np\n",
    "import pandas as pd\n",
    "\n",
    "# --- helpers ---\n",
    "norm = lambda s: str(s).strip().casefold()\n",
    "\n",
    "# copies + normalized keys\n",
    "A_index_df = A_index_df.copy()\n",
    "electricity_mix_df = electricity_mix_df.copy()\n",
    "\n",
    "A_index_df[\"provider_key\"] = A_index_df[\"provider name\"].map(norm)\n",
    "electricity_mix_df[\"provider_key\"] = electricity_mix_df[\"provider name\"].map(norm)\n",
    "\n",
    "# map: provider_key -> list of row indices in A (these are the *rows*)\n",
    "row_idx_map = (\n",
    "    A_index_df.groupby(\"provider_key\")[\"index\"]\n",
    "    .apply(lambda s: list(map(int, s)))\n",
    "    .to_dict()\n",
    ")\n",
    "\n",
    "# find the *column* indices in A for each target electricity column\n",
    "def get_col_idx(label: str) -> int:\n",
    "    key = norm(label)\n",
    "    arr = A_index_df.loc[A_index_df[\"provider_key\"] == key, \"index\"].astype(int).values\n",
    "    if len(arr) == 0:\n",
    "        raise ValueError(f\"'{label}' not found in A_index_df['provider name']\")\n",
    "    return int(arr[0])\n",
    "\n",
    "col_map = {\n",
    "    \"Fossil Electricity - 2025\":      get_col_idx(\"Fossil Electricity\"),\n",
    "    \"Clean Electricity - 2025\":       get_col_idx(\"Clean Electricity\"),\n",
    "    \"2025 Energy Mix\":                get_col_idx(\"Electricity Mix (Global)\"),\n",
    "}\n",
    "\n",
    "# ensure numeric inputs; keep NaN to skip writes cleanly\n",
    "for src_col in list(col_map.keys()):\n",
    "    if src_col not in electricity_mix_df.columns:\n",
    "        raise ValueError(f\"Source column '{src_col}' not found in electricity_mix_df\")\n",
    "    electricity_mix_df[src_col] = pd.to_numeric(electricity_mix_df[src_col], errors=\"coerce\")\n",
    "\n",
    "# --- assign values into A ---\n",
    "for _, row in electricity_mix_df.iterrows():\n",
    "    pkey = row[\"provider_key\"]\n",
    "    rows = row_idx_map.get(pkey, [])\n",
    "    if not rows:\n",
    "        continue  # provider not in A_index_df rows — skip\n",
    "\n",
    "    for src_col, target_col_idx in col_map.items():\n",
    "        val = row[src_col]\n",
    "        if pd.isna(val):\n",
    "            continue  # nothing to write\n",
    "        v = float(val)\n",
    "        for r in rows:\n",
    "            A[int(r), target_col_idx] = v\n"
   ]
  },
  {
   "cell_type": "markdown",
   "id": "49fcf834-cd8c-4279-a717-b4fb561f32fc",
   "metadata": {},
   "source": [
    "## Quality Scenario (for recycled material from mechanical)"
   ]
  },
  {
   "cell_type": "code",
   "execution_count": 11,
   "id": "d89ae4d3-e2c5-4fb6-8dc8-6d00d8f699bb",
   "metadata": {},
   "outputs": [],
   "source": [
    "quality_scenarios_df = pd.read_csv(\"data/quality_scenarios.csv\")"
   ]
  },
  {
   "cell_type": "code",
   "execution_count": 12,
   "id": "6f075c00-782a-4097-ad53-8fc2ab1652cf",
   "metadata": {},
   "outputs": [],
   "source": [
    "# Assumes the following are already in memory:\n",
    "# - quality_scenarios_df  with columns: \"Recycling Process\", \"Substitutable Virgin Process\", \"S1 - no limit\"\n",
    "# - A_index_df            with columns: \"Provider name\", \"Index\"\n",
    "# - A                     as a NumPy array (your A-matrix)\n",
    "\n",
    "# Normalize helper (case-insensitive, trim spaces)\n",
    "_norm = lambda s: str(s).strip().casefold()\n",
    "\n",
    "# Build name -> index map from A_index_df\n",
    "# If A_index_df['Index'] is 1-based, uncomment the \"- 1\" line below instead.\n",
    "name_to_idx = {\n",
    "    _norm(p): int(i)\n",
    "    for p, i in zip(A_index_df[\"provider name\"], A_index_df[\"index\"])\n",
    "    # for p, i in zip(A_index_df[\"Provider name\"], A_index_df[\"Index\"] - 1)  # <- use this if indices are 1-based\n",
    "}\n",
    "\n",
    "# Map processes to A indices\n",
    "col_idx = quality_scenarios_df[\"Recycling Process\"].astype(str).map(_norm).map(name_to_idx)\n",
    "row_idx = quality_scenarios_df[\"Substitutable Virgin Process\"].astype(str).map(_norm).map(name_to_idx)\n",
    "\n",
    "# Save the pair (row, col) to the \"Index\" column\n",
    "quality_scenarios_df[\"index\"] = list(zip(row_idx, col_idx))\n",
    "\n",
    "# Pull values to write\n",
    "vals = pd.to_numeric(quality_scenarios_df[\"S1 - no limit\"], errors=\"coerce\")\n",
    "\n",
    "# Only update where both indices and value are valid\n",
    "mask = row_idx.notna() & col_idx.notna() & vals.notna()\n",
    "rows = row_idx[mask].astype(int).to_numpy()\n",
    "cols = col_idx[mask].astype(int).to_numpy()\n",
    "v    = vals[mask].to_numpy(dtype=float)\n",
    "\n",
    "# Write into A at (row, col)\n",
    "A[rows, cols] = v\n",
    "\n",
    "# Optional diagnostics:\n",
    "# print(\"Updated entries:\", mask.sum())\n",
    "# print(\"Unmatched Recycling Process:\", quality_scenarios_df.loc[col_idx.isna(), \"Recycling Process\"].drop_duplicates().tolist()[:10])\n",
    "# print(\"Unmatched Substitutable Virgin Process:\", quality_scenarios_df.loc[row_idx.isna(), \"Substitutable Virgin Process\"].drop_duplicates().tolist()[:10])\n"
   ]
  },
  {
   "cell_type": "code",
   "execution_count": 13,
   "id": "b802c3a7-7307-43b0-baa9-b8dc34d9571f",
   "metadata": {},
   "outputs": [
    {
     "data": {
      "text/plain": [
       "1.0"
      ]
     },
     "execution_count": 13,
     "metadata": {},
     "output_type": "execute_result"
    }
   ],
   "source": [
    "A[int(A_index_df.loc[A_index_df[\"provider name\"]==\"Polyethylene, high density, HDPE, virgin resin, food non-bottle grade\",\"index\"].iloc[0]),\n",
    "  int(A_index_df.loc[A_index_df[\"provider name\"]==\"Mechanical Recycling, HDPE Other Food Rigid (Flakes)\",\"index\"].iloc[0])]"
   ]
  },
  {
   "cell_type": "markdown",
   "id": "1002f8f6-b7a2-457b-84fd-122433189943",
   "metadata": {
    "tags": []
   },
   "source": [
    "## Identifying background flows for cost calculation"
   ]
  },
  {
   "cell_type": "code",
   "execution_count": 14,
   "id": "6abc3af9-5e07-48e8-80bf-86359dfc5534",
   "metadata": {},
   "outputs": [],
   "source": [
    "A_foreground_df = pd.read_csv(\"data/Foreground_A.csv\")"
   ]
  },
  {
   "cell_type": "code",
   "execution_count": 15,
   "id": "e88ff9d5-13b0-4b33-9b18-45ea8daeb086",
   "metadata": {},
   "outputs": [],
   "source": [
    "import numpy as np\n",
    "import pandas as pd\n",
    "\n",
    "# Helper for consistent comparison\n",
    "norm = lambda s: str(s).strip().casefold()\n",
    "\n",
    "# Normalize keys\n",
    "A_index_df = A_index_df.copy()\n",
    "A_foreground_df = A_foreground_df.copy()\n",
    "A_index_df['provider_key'] = A_index_df['provider name'].map(norm)\n",
    "A_foreground_df['provider_key'] = A_foreground_df['provider name'].map(norm)\n",
    "\n",
    "# Build mapping from provider -> indices\n",
    "idx_map = (\n",
    "    A_index_df\n",
    "    .groupby('provider_key')['index']\n",
    "    .apply(lambda s: list(map(int, s)))\n",
    "    .to_dict()\n",
    ")\n",
    "\n",
    "# Foreground indices (to exclude later)\n",
    "matched_indices = sorted({\n",
    "    idx\n",
    "    for key in A_foreground_df['provider_key'].unique()\n",
    "    for idx in idx_map.get(key, [])\n",
    "})\n",
    "\n",
    "# Example: build all_nonzero from the numeric matrix A\n",
    "# (take all row indices with nonzero entries across the columns in matched_indices)\n",
    "all_nonzero = set()\n",
    "for col in matched_indices:\n",
    "    all_nonzero.update(np.nonzero(A[:, col])[0])\n",
    "\n",
    "# Remove overlap\n",
    "foreground_set = set(matched_indices)\n",
    "all_nonzero_set = {int(x) for x in all_nonzero}\n",
    "filtered_nonzero_rows = sorted(all_nonzero_set - foreground_set)\n"
   ]
  },
  {
   "cell_type": "code",
   "execution_count": 16,
   "id": "fd4a51dd-0bce-412e-8565-2546b418a2c2",
   "metadata": {},
   "outputs": [],
   "source": [
    "result_df = A_index_df[A_index_df['index'].isin(filtered_nonzero_rows)].copy()"
   ]
  },
  {
   "cell_type": "code",
   "execution_count": 17,
   "id": "ca834235-cc09-43db-95ee-bad708c136e1",
   "metadata": {},
   "outputs": [],
   "source": [
    "result_df.to_csv('filtered_nonzero_rows_with_names.csv', index=False)"
   ]
  },
  {
   "cell_type": "markdown",
   "id": "bc8cb8fc-75c1-429c-9a9d-60caabad1851",
   "metadata": {},
   "source": [
    "## Importing financial data for cost calculation"
   ]
  },
  {
   "cell_type": "code",
   "execution_count": 18,
   "id": "2cbb1e65-7a1a-481f-8295-48fb400a9287",
   "metadata": {},
   "outputs": [],
   "source": [
    "financial_df = pd.read_csv(\"data/Financial.csv\")"
   ]
  },
  {
   "cell_type": "markdown",
   "id": "36be46d0-dd00-4f59-8bc9-def3f14e784a",
   "metadata": {
    "tags": []
   },
   "source": [
    "# 2. Static Analysis and Optimization"
   ]
  },
  {
   "cell_type": "markdown",
   "id": "e1e4fa3b-a1dd-4630-99df-bcce5a4250ba",
   "metadata": {
    "jp-MarkdownHeadingCollapsed": true,
    "tags": []
   },
   "source": [
    "## 2.1. Base Case (Linear fossil economy in 2025 without carbon capture and microplastic treatment)"
   ]
  },
  {
   "cell_type": "markdown",
   "id": "741ed06f-ce44-49d6-854f-53c5a8298b2f",
   "metadata": {
    "tags": []
   },
   "source": [
    "### Electricity Mix"
   ]
  },
  {
   "cell_type": "code",
   "execution_count": 32,
   "id": "d0063c7c-bc37-44ed-b6ed-c335a6b23731",
   "metadata": {},
   "outputs": [],
   "source": [
    "# Global Electricity Mix for 2025\n",
    "electricity_mix_df = pd.read_csv(\"data/electricity_mix.csv\")"
   ]
  },
  {
   "cell_type": "code",
   "execution_count": 33,
   "id": "884edfaf-f368-46d2-ba88-04f78e25b7d9",
   "metadata": {},
   "outputs": [],
   "source": [
    "import numpy as np\n",
    "import pandas as pd\n",
    "\n",
    "# --- helpers ---\n",
    "norm = lambda s: str(s).strip().casefold()\n",
    "\n",
    "# copies + normalized keys\n",
    "A_index_df = A_index_df.copy()\n",
    "electricity_mix_df = electricity_mix_df.copy()\n",
    "\n",
    "A_index_df[\"provider_key\"] = A_index_df[\"provider name\"].map(norm)\n",
    "electricity_mix_df[\"provider_key\"] = electricity_mix_df[\"provider name\"].map(norm)\n",
    "\n",
    "# map: provider_key -> list of row indices in A (these are the *rows*)\n",
    "row_idx_map = (\n",
    "    A_index_df.groupby(\"provider_key\")[\"index\"]\n",
    "    .apply(lambda s: list(map(int, s)))\n",
    "    .to_dict()\n",
    ")\n",
    "\n",
    "# find the *column* indices in A for each target electricity column\n",
    "def get_col_idx(label: str) -> int:\n",
    "    key = norm(label)\n",
    "    arr = A_index_df.loc[A_index_df[\"provider_key\"] == key, \"index\"].astype(int).values\n",
    "    if len(arr) == 0:\n",
    "        raise ValueError(f\"'{label}' not found in A_index_df['provider name']\")\n",
    "    return int(arr[0])\n",
    "\n",
    "col_map = {\n",
    "    \"Fossil Electricity - 2025\":      get_col_idx(\"Fossil Electricity\"),\n",
    "    \"Clean Electricity - 2025\":       get_col_idx(\"Clean Electricity\"),\n",
    "    \"2025 Energy Mix\":                get_col_idx(\"Electricity Mix (Global)\"),\n",
    "}\n",
    "\n",
    "# ensure numeric inputs; keep NaN to skip writes cleanly\n",
    "for src_col in list(col_map.keys()):\n",
    "    if src_col not in electricity_mix_df.columns:\n",
    "        raise ValueError(f\"Source column '{src_col}' not found in electricity_mix_df\")\n",
    "    electricity_mix_df[src_col] = pd.to_numeric(electricity_mix_df[src_col], errors=\"coerce\")\n",
    "\n",
    "# --- assign values into A ---\n",
    "for _, row in electricity_mix_df.iterrows():\n",
    "    pkey = row[\"provider_key\"]\n",
    "    rows = row_idx_map.get(pkey, [])\n",
    "    if not rows:\n",
    "        continue  # provider not in A_index_df rows — skip\n",
    "\n",
    "    for src_col, target_col_idx in col_map.items():\n",
    "        val = row[src_col]\n",
    "        if pd.isna(val):\n",
    "            continue  # nothing to write\n",
    "        v = float(val)\n",
    "        for r in rows:\n",
    "            A[int(r), target_col_idx] = v\n"
   ]
  },
  {
   "cell_type": "code",
   "execution_count": 34,
   "id": "3c209732-7f9e-439c-8b57-c85830ade9e7",
   "metadata": {},
   "outputs": [
    {
     "data": {
      "text/plain": [
       "-0.35"
      ]
     },
     "execution_count": 34,
     "metadata": {},
     "output_type": "execute_result"
    }
   ],
   "source": [
    "A[int(A_index_df.loc[A_index_df[\"provider name\"]==\"Electricity, hydropower (life cycle)\",\"index\"].iloc[0]),\n",
    "  int(A_index_df.loc[A_index_df[\"provider name\"]==\"Clean Electricity\",\"index\"].iloc[0])]"
   ]
  },
  {
   "cell_type": "markdown",
   "id": "7118e6ab-699d-4d6e-ab32-7fd06fff9c40",
   "metadata": {
    "tags": []
   },
   "source": [
    "### Collection and Sorting"
   ]
  },
  {
   "cell_type": "code",
   "execution_count": 35,
   "id": "925efc39-ff11-4ab6-ba19-06ffd143b180",
   "metadata": {},
   "outputs": [],
   "source": [
    "packaging_types_df = pd.read_csv(\"data/packaging_types.csv\")\n",
    "collection_recyclate_df = pd.read_csv(\"data/collection_Recyclate.csv\")\n",
    "collection_msw_df = pd.read_csv(\"data/collection_MSW.csv\")"
   ]
  },
  {
   "cell_type": "code",
   "execution_count": 36,
   "id": "c0a621c7-06a2-4cdc-9622-bc3702bff381",
   "metadata": {},
   "outputs": [],
   "source": [
    "import numpy as np\n",
    "import pandas as pd\n",
    "import re\n",
    "\n",
    "# ---- exact-key matcher (case/space insensitive, keeps stage prefixes) ----\n",
    "ekey = lambda s: str(s).strip().casefold()\n",
    "\n",
    "# ---- copies + normalized keys ----\n",
    "A_index_df = A_index_df.copy()\n",
    "packaging_types_df = packaging_types_df.copy()\n",
    "collection_msw_df = collection_msw_df.copy()\n",
    "\n",
    "A_index_df[\"prov_exact\"]         = A_index_df[\"provider name\"].map(ekey)\n",
    "packaging_types_df[\"prov_exact\"] = packaging_types_df[\"provider name\"].map(ekey)\n",
    "collection_msw_df[\"prov_exact\"]  = collection_msw_df[\"provider name\"].map(ekey)\n",
    "\n",
    "# If you know the 3 mapping columns, set them here, e.g.:\n",
    "# mapping_cols = [\"dest_1\", \"dest_2\", \"dest_3\"]\n",
    "# Otherwise, auto-detect up to 3 string columns besides 'provider name'\n",
    "mapping_cols = [c for c in packaging_types_df.columns\n",
    "                if c not in (\"provider name\", \"prov_exact\")\n",
    "                and pd.api.types.is_string_dtype(packaging_types_df[c])][:3]\n",
    "if not mapping_cols:\n",
    "    raise ValueError(\"Couldn't detect mapping columns; please set 'mapping_cols' explicitly.\")\n",
    "\n",
    "# Normalize destination columns\n",
    "for col in mapping_cols:\n",
    "    packaging_types_df[col + \"_exact\"] = packaging_types_df[col].map(ekey)\n",
    "\n",
    "# provider name -> list of integer indices in A (rows/cols)\n",
    "idx_map_exact = (\n",
    "    A_index_df.groupby(\"prov_exact\")[\"index\"]\n",
    "              .apply(lambda s: list(map(int, s)))\n",
    "              .to_dict()\n",
    ")\n",
    "\n",
    "# \"Use & Collection\" column index\n",
    "use_col = int(A_index_df.loc[A_index_df[\"provider name\"]==\"Use & Collection\",\"index\"].iloc[0])\n",
    "\n",
    "# ---- X: abs(A[row, use_col]) per packaging provider (exact match) ----\n",
    "X_by_src = {}\n",
    "for k in packaging_types_df[\"prov_exact\"].dropna().unique():\n",
    "    rows = idx_map_exact.get(k, [])\n",
    "    if rows:\n",
    "        r0 = int(rows[0])  # if multiple rows per provider, change to sum/mean if needed\n",
    "        X_by_src[k] = abs(float(A[r0, use_col]))\n",
    "\n",
    "# ---- Y: MSW \"Linear Economy\" per provider (exact match) ----\n",
    "Y_by_key = (collection_msw_df.dropna(subset=[\"prov_exact\"])\n",
    "            .groupby(\"prov_exact\")[\"Linear Economy\"]\n",
    "            .first()\n",
    "            .to_dict())\n",
    "\n",
    "# ---- zero out destination cells we're going to rewrite (avoid accumulation on reruns) ----\n",
    "dest_rows = set()\n",
    "for _, row in packaging_types_df.iterrows():\n",
    "    for col in mapping_cols:\n",
    "        dk = row.get(col + \"_exact\", None)\n",
    "        if dk in idx_map_exact:\n",
    "            dest_rows.update(idx_map_exact[dk])\n",
    "if dest_rows:\n",
    "    A[list(dest_rows), use_col] = 0.0\n",
    "\n",
    "# ---- assign: A[row, use_col] += X * Y for each mapped destination (exact match) ----\n",
    "for _, row in packaging_types_df.iterrows():\n",
    "    src_k = row[\"prov_exact\"]\n",
    "    X     = X_by_src.get(src_k)\n",
    "    if X is None:\n",
    "        continue\n",
    "    for col in mapping_cols:\n",
    "        dk = row.get(col + \"_exact\", None)\n",
    "        if not dk:\n",
    "            continue\n",
    "        Y = Y_by_key.get(dk)\n",
    "        if Y is None or pd.isna(Y):\n",
    "            continue\n",
    "        contrib = float(abs(X) * float(Y))\n",
    "        for r in idx_map_exact.get(dk, []):\n",
    "            A[int(r), use_col] += contrib"
   ]
  },
  {
   "cell_type": "code",
   "execution_count": 37,
   "id": "a637468f-f855-4092-8a77-aaf3bd412721",
   "metadata": {},
   "outputs": [
    {
     "data": {
      "text/plain": [
       "0.021840000000000002"
      ]
     },
     "execution_count": 37,
     "metadata": {},
     "output_type": "execute_result"
    }
   ],
   "source": [
    "A[int(A_index_df.loc[A_index_df[\"provider name\"]==\"Disposal, Multi-material Food Bottles\",\"index\"].iloc[0]),\n",
    "  int(A_index_df.loc[A_index_df[\"provider name\"]==\"Use & Collection\",\"index\"].iloc[0])]"
   ]
  },
  {
   "cell_type": "code",
   "execution_count": 38,
   "id": "5bdc6ddb-8a03-4bfb-8c97-47de0ba52572",
   "metadata": {},
   "outputs": [],
   "source": [
    "# --- Recyclate pass: X * Y_recyclate added into A[:, use_col] ---\n",
    "\n",
    "collection_recyclate_df = collection_recyclate_df.copy()\n",
    "collection_recyclate_df[\"prov_exact\"] = collection_recyclate_df[\"provider name\"].map(ekey)\n",
    "\n",
    "# Y from recyclate\n",
    "Y_rec_by_key = (\n",
    "    collection_recyclate_df.dropna(subset=[\"prov_exact\"])\n",
    "    .groupby(\"prov_exact\")[\"Linear Economy\"]\n",
    "    .first()    # change to sum()/mean() if needed\n",
    "    .to_dict()\n",
    ")\n",
    "\n",
    "# Optionally clear destination cells before this pass (default = keep MSW values and add recyclate)\n",
    "reset_dest = False\n",
    "if reset_dest:\n",
    "    rec_dest_rows = set()\n",
    "    for _, row in packaging_types_df.iterrows():\n",
    "        for col in mapping_cols:\n",
    "            dk = row.get(col + \"_exact\", None)\n",
    "            rec_dest_rows.update(idx_map_exact.get(dk, []))\n",
    "    if rec_dest_rows:\n",
    "        A[np.array(sorted(rec_dest_rows), dtype=int), use_col] = 0.0\n",
    "\n",
    "# Write: A[row, use_col] += X * Y_recyclate\n",
    "for _, row in packaging_types_df.iterrows():\n",
    "    src_k = row[\"prov_exact\"]\n",
    "    X = X_by_src.get(src_k)\n",
    "    if X is None:\n",
    "        continue\n",
    "    for col in mapping_cols:\n",
    "        dk = row.get(col + \"_exact\", None)\n",
    "        if not dk:\n",
    "            continue\n",
    "        Y = Y_rec_by_key.get(dk)\n",
    "        if Y is None or pd.isna(Y):\n",
    "            continue\n",
    "        contrib = float(abs(X) * float(Y))\n",
    "        for r in idx_map_exact.get(dk, []):\n",
    "            A[int(r), use_col] += contrib"
   ]
  },
  {
   "cell_type": "code",
   "execution_count": 39,
   "id": "13813ae7-1e2c-4572-9712-cac16fa3a29c",
   "metadata": {},
   "outputs": [
    {
     "data": {
      "text/plain": [
       "0.0"
      ]
     },
     "execution_count": 39,
     "metadata": {},
     "output_type": "execute_result"
    }
   ],
   "source": [
    "A[int(A_index_df.loc[A_index_df[\"provider name\"]==\"High-tech Sorting, Collected HDPE Drinking Bottles\",\"index\"].iloc[0]),\n",
    "  int(A_index_df.loc[A_index_df[\"provider name\"]==\"Use & Collection\",\"index\"].iloc[0])]"
   ]
  },
  {
   "cell_type": "markdown",
   "id": "3ff7b317-9f95-45f9-8f5d-a198cb125c2f",
   "metadata": {
    "tags": []
   },
   "source": [
    "### Monomers"
   ]
  },
  {
   "cell_type": "code",
   "execution_count": 40,
   "id": "84907181-084f-423e-afcb-25c5b3b62b51",
   "metadata": {},
   "outputs": [],
   "source": [
    "monomers_decisions_df = pd.read_csv(\"data/monomers_decisions.csv\")"
   ]
  },
  {
   "cell_type": "code",
   "execution_count": 41,
   "id": "0c70d06a-a354-4162-8d7c-9d0eb9bfe69c",
   "metadata": {},
   "outputs": [],
   "source": [
    "import numpy as np\n",
    "import pandas as pd\n",
    "\n",
    "# ---- helper: normalize names for reliable matching ----\n",
    "ekey = lambda s: str(s).strip().casefold()\n",
    "\n",
    "# ---- defensive copies + normalized keys ----\n",
    "A_index_df = A_index_df.copy()\n",
    "monomers_decisions_df = monomers_decisions_df.copy()\n",
    "\n",
    "A_index_df[\"prov_key\"] = A_index_df[\"provider name\"].map(ekey)\n",
    "monomers_decisions_df[\"col_key\"]  = monomers_decisions_df[\"Provider name\"].map(ekey)\n",
    "monomers_decisions_df[\"row_key\"]  = monomers_decisions_df[\"Input parameters names\"].map(ekey)\n",
    "\n",
    "# provider key -> list of integer indices in A (rows/cols)\n",
    "idx_map = (\n",
    "    A_index_df.groupby(\"prov_key\")[\"index\"]\n",
    "    .apply(lambda s: list(map(int, s)))\n",
    "    .to_dict()\n",
    ")\n",
    "\n",
    "# ensure \"Linear Economy\" is numeric\n",
    "monomers_decisions_df[\"Linear Economy\"] = pd.to_numeric(\n",
    "    monomers_decisions_df[\"Linear Economy\"], errors=\"coerce\"\n",
    ")\n",
    "\n",
    "# ---- apply updates: for each row in decisions, scale A[row_idx, col_idx] *= X ----\n",
    "n_pairs = 0\n",
    "skipped = 0\n",
    "\n",
    "for _, drow in monomers_decisions_df.iterrows():\n",
    "    x = drow[\"Linear Economy\"]\n",
    "    if pd.isna(x):\n",
    "        skipped += 1\n",
    "        continue\n",
    "\n",
    "    row_idxs = idx_map.get(drow[\"row_key\"], [])\n",
    "    col_idxs = idx_map.get(drow[\"col_key\"], [])\n",
    "\n",
    "    if not row_idxs or not col_idxs:\n",
    "        skipped += 1\n",
    "        continue\n",
    "\n",
    "    # multiply all combinations (row, col) by X\n",
    "    for ri in row_idxs:\n",
    "        for ci in col_idxs:\n",
    "            A[int(ri), int(ci)] = np.nan_to_num(A[int(ri), int(ci)]) * float(x)\n",
    "            n_pairs += 1"
   ]
  },
  {
   "cell_type": "code",
   "execution_count": 42,
   "id": "35f4586b-7579-4f0d-9080-45eff0cd55aa",
   "metadata": {},
   "outputs": [
    {
     "data": {
      "text/plain": [
       "-1.0"
      ]
     },
     "execution_count": 42,
     "metadata": {},
     "output_type": "execute_result"
    }
   ],
   "source": [
    "A[int(A_index_df.loc[A_index_df[\"provider name\"]==\"Ethylene production, fossil, steam cracker\",\"index\"].iloc[0]),\n",
    "  int(A_index_df.loc[A_index_df[\"provider name\"]==\"Ethylene\",\"index\"].iloc[0])]"
   ]
  },
  {
   "cell_type": "markdown",
   "id": "e54f2cba-97bc-432b-954c-d2fc62e5ce6d",
   "metadata": {
    "tags": []
   },
   "source": [
    "### Carbon Capture"
   ]
  },
  {
   "cell_type": "code",
   "execution_count": 43,
   "id": "ec4b673c-8033-40e4-b506-73baaf7ab563",
   "metadata": {},
   "outputs": [],
   "source": [
    "carbon_capture_decisions_df = pd.read_csv(\"data/carbon_capture_decisions.csv\")"
   ]
  },
  {
   "cell_type": "code",
   "execution_count": 44,
   "id": "8a22ecf1-3afc-4448-9e07-60b0c8021d19",
   "metadata": {},
   "outputs": [],
   "source": [
    "import numpy as np\n",
    "import pandas as pd\n",
    "\n",
    "# Helper to normalize keys (to avoid case/space mismatches)\n",
    "norm = lambda s: str(s).strip().casefold()\n",
    "\n",
    "# Normalize provider names in both DataFrames\n",
    "A_index_df = A_index_df.copy()\n",
    "electricity_mix_df = electricity_mix_df.copy()\n",
    "A_index_df['provider_key'] = A_index_df['provider name'].map(norm)\n",
    "electricity_mix_df['provider_key'] = electricity_mix_df['provider name'].map(norm)\n",
    "\n",
    "# Find the column index for \"Electricity Mix (Global)\"\n",
    "mix_key = norm(\"Electricity Mix (Global)\")\n",
    "mix_idx_arr = A_index_df.loc[A_index_df['provider_key'] == mix_key, 'index'].astype(int).values\n",
    "if len(mix_idx_arr) == 0:\n",
    "    raise ValueError(\"'Electricity Mix (Global)' not found in A_index_df['provider name']\")\n",
    "mix_col = int(mix_idx_arr[0])\n",
    "\n",
    "# Iterate over providers in electricity_mix_df and assign values into A\n",
    "for _, row in electricity_mix_df.iterrows():\n",
    "    prov_key = row['provider_key']\n",
    "    energy_val = row['2025 Energy Mix']\n",
    "\n",
    "    # find the row index (from A_index_df) for this provider\n",
    "    idxs = A_index_df.loc[A_index_df['provider_key'] == prov_key, 'index'].astype(int).values\n",
    "    for ridx in idxs:\n",
    "        A[ridx, mix_col] = energy_val"
   ]
  },
  {
   "cell_type": "code",
   "execution_count": 45,
   "id": "f32d0b6f-787e-4517-9a3d-3ca555550713",
   "metadata": {},
   "outputs": [],
   "source": [
    "import numpy as np\n",
    "import pandas as pd\n",
    "\n",
    "# normalize for reliable matching\n",
    "ekey = lambda s: str(s).strip().casefold()\n",
    "\n",
    "# copies + keys\n",
    "A_index_df = A_index_df.copy()\n",
    "carbon_capture_decisions_df = carbon_capture_decisions_df.copy()\n",
    "\n",
    "A_index_df[\"prov_key\"] = A_index_df[\"provider name\"].map(ekey)\n",
    "carbon_capture_decisions_df[\"col_key\"] = carbon_capture_decisions_df[\"Provider name\"].map(ekey)\n",
    "carbon_capture_decisions_df[\"row_key\"] = carbon_capture_decisions_df[\"Input parameters names\"].map(ekey)\n",
    "\n",
    "# provider key -> list of integer indices (row/col) in A\n",
    "idx_map = (\n",
    "    A_index_df.groupby(\"prov_key\")[\"index\"]\n",
    "    .apply(lambda s: list(map(int, s)))\n",
    "    .to_dict()\n",
    ")\n",
    "\n",
    "# ensure numeric X\n",
    "carbon_capture_decisions_df[\"Linear Economy\"] = pd.to_numeric(\n",
    "    carbon_capture_decisions_df[\"Linear Economy\"], errors=\"coerce\"\n",
    ")\n",
    "\n",
    "# apply: for each decision row, A[row, col] *= X\n",
    "n_pairs = 0\n",
    "skipped = 0\n",
    "\n",
    "for _, d in carbon_capture_decisions_df.iterrows():\n",
    "    X = d[\"Linear Economy\"]\n",
    "    if pd.isna(X):\n",
    "        skipped += 1\n",
    "        continue\n",
    "\n",
    "    row_idxs = idx_map.get(d[\"row_key\"], [])\n",
    "    col_idxs = idx_map.get(d[\"col_key\"], [])\n",
    "\n",
    "    if not row_idxs or not col_idxs:\n",
    "        skipped += 1\n",
    "        continue\n",
    "\n",
    "    for ri in row_idxs:\n",
    "        for ci in col_idxs:\n",
    "            A[int(ri), int(ci)] = np.nan_to_num(A[int(ri), int(ci)]) * float(X)\n",
    "            n_pairs += 1"
   ]
  },
  {
   "cell_type": "code",
   "execution_count": 46,
   "id": "56328051-5a67-4133-a373-fe67a9f0b092",
   "metadata": {},
   "outputs": [
    {
     "data": {
      "text/plain": [
       "1.0"
      ]
     },
     "execution_count": 46,
     "metadata": {},
     "output_type": "execute_result"
    }
   ],
   "source": [
    "A[int(A_index_df.loc[A_index_df[\"provider name\"]==\"Plastic Incineration CO2 to the atmosphere\",\"index\"].iloc[0]),\n",
    "  int(A_index_df.loc[A_index_df[\"provider name\"]==\"Plastic Incineration CO2\",\"index\"].iloc[0])]"
   ]
  },
  {
   "cell_type": "markdown",
   "id": "823baeb0-7754-42c0-8dbf-0cef0bc19915",
   "metadata": {
    "tags": []
   },
   "source": [
    "### microplastics treatment"
   ]
  },
  {
   "cell_type": "code",
   "execution_count": 47,
   "id": "ea48b9fe-e1de-4321-9575-d34e29df59c1",
   "metadata": {},
   "outputs": [],
   "source": [
    "microplastics_decisions_df = pd.read_csv(\"data/microplastics_decisions.csv\")"
   ]
  },
  {
   "cell_type": "code",
   "execution_count": 48,
   "id": "fe476f50-aaa4-4f3d-adb2-027ba7fef0f3",
   "metadata": {},
   "outputs": [],
   "source": [
    "import numpy as np\n",
    "import pandas as pd\n",
    "\n",
    "# normalizer\n",
    "ekey = lambda s: str(s).strip().casefold()\n",
    "\n",
    "# copies + normalized keys\n",
    "A_index_df = A_index_df.copy()\n",
    "microplastics_decisions_df = microplastics_decisions_df.copy()\n",
    "\n",
    "A_index_df[\"prov_key\"] = A_index_df[\"provider name\"].map(ekey)\n",
    "microplastics_decisions_df[\"col_key\"] = microplastics_decisions_df[\"Provider name\"].map(ekey)\n",
    "microplastics_decisions_df[\"row_key\"] = microplastics_decisions_df[\"Input parameters names\"].map(ekey)\n",
    "\n",
    "# provider key -> list of integer indices in A (rows/cols)\n",
    "idx_map = (\n",
    "    A_index_df.groupby(\"prov_key\")[\"index\"]\n",
    "    .apply(lambda s: list(map(int, s)))\n",
    "    .to_dict()\n",
    ")\n",
    "\n",
    "# ensure numeric decision value\n",
    "microplastics_decisions_df[\"Linear Economy\"] = pd.to_numeric(\n",
    "    microplastics_decisions_df[\"Linear Economy\"], errors=\"coerce\"\n",
    ")\n",
    "\n",
    "# apply decisions: A[row, col] *= value\n",
    "n_pairs = 0\n",
    "skipped = 0\n",
    "\n",
    "for _, d in microplastics_decisions_df.iterrows():\n",
    "    x = d[\"Linear Economy\"]\n",
    "    if pd.isna(x):\n",
    "        skipped += 1\n",
    "        continue\n",
    "\n",
    "    row_idxs = idx_map.get(d[\"row_key\"], [])\n",
    "    col_idxs = idx_map.get(d[\"col_key\"], [])\n",
    "\n",
    "    if not row_idxs or not col_idxs:\n",
    "        skipped += 1\n",
    "        continue\n",
    "\n",
    "    for ri in row_idxs:\n",
    "        for ci in col_idxs:\n",
    "            A[int(ri), int(ci)] = np.nan_to_num(A[int(ri), int(ci)]) * float(x)\n",
    "            n_pairs += 1"
   ]
  },
  {
   "cell_type": "code",
   "execution_count": 49,
   "id": "8a877e1f-36b5-4b50-b0a4-4689f4f41b7d",
   "metadata": {},
   "outputs": [
    {
     "data": {
      "text/plain": [
       "1.0"
      ]
     },
     "execution_count": 49,
     "metadata": {},
     "output_type": "execute_result"
    }
   ],
   "source": [
    "A[int(A_index_df.loc[A_index_df[\"provider name\"]==\"Plastic Incineration CO2 to the atmosphere\",\"index\"].iloc[0]),\n",
    "  int(A_index_df.loc[A_index_df[\"provider name\"]==\"Plastic Incineration CO2\",\"index\"].iloc[0])]"
   ]
  },
  {
   "cell_type": "markdown",
   "id": "14109e77-45a0-4afe-9cb2-c36d3aa77845",
   "metadata": {
    "tags": []
   },
   "source": [
    "### LCA/TEA Calculations"
   ]
  },
  {
   "cell_type": "code",
   "execution_count": 50,
   "id": "a2ecbf76-4b18-4106-aa5f-759e5dba89d2",
   "metadata": {},
   "outputs": [],
   "source": [
    "# LCA Calculations\n",
    "packaging_demand_2025 = 4.29e+11 #429 MMT\n",
    "f = np.zeros(len(A))\n",
    "f[0] = packaging_demand_2025\n",
    "s = np.linalg.solve(A, f)\n",
    "g = B@s\n",
    "phi = C@g\n",
    "phi_normalized = phi/packaging_demand_2025"
   ]
  },
  {
   "cell_type": "code",
   "execution_count": 51,
   "id": "bd813b01-abe2-4de8-891d-14cab68ea18f",
   "metadata": {},
   "outputs": [
    {
     "name": "stdout",
     "output_type": "stream",
     "text": [
      "\n",
      "Top 10 contributors to phi[0]:\n",
      "                                       provider_name  contribution    share_%\n",
      "0                     Electricity, coal (life cycle)  2.128320e+11  14.294350\n",
      "1                Steam Cracker CO2 to the atmosphere  2.054939e+11  13.801505\n",
      "2         Plastic Incineration CO2 to the atmosphere  1.908820e+11  12.820128\n",
      "3  Natural gas, combusted in industrial boiler, a...  1.712721e+11  11.503079\n",
      "4        Natural gas, combusted in industrial boiler  9.676834e+10   6.499212\n",
      "5              Electricity, natural gas (life cycle)  6.687861e+10   4.491740\n",
      "6                    Petroleum refining, at refinery  5.845680e+10   3.926110\n",
      "7                                   Open Burning, PP  5.443242e+10   3.655822\n",
      "8                                  Open Burning, PET  4.452687e+10   2.990540\n",
      "9          Crude oil, on-shore import, at extraction  4.341747e+10   2.916030\n",
      "\n",
      "Top 10 contributors to phi[x] (absolute):\n",
      "                                       provider_name  contribution    share_%\n",
      "0                     Electricity, coal (life cycle)  2.128320e+11  14.294350\n",
      "1                Steam Cracker CO2 to the atmosphere  2.054939e+11  13.801505\n",
      "2         Plastic Incineration CO2 to the atmosphere  1.908820e+11  12.820128\n",
      "3  Natural gas, combusted in industrial boiler, a...  1.712721e+11  11.503079\n",
      "4        Natural gas, combusted in industrial boiler  9.676834e+10   6.499212\n",
      "5              Electricity, natural gas (life cycle)  6.687861e+10   4.491740\n",
      "6                    Petroleum refining, at refinery  5.845680e+10   3.926110\n",
      "7                                   Open Burning, PP  5.443242e+10   3.655822\n",
      "8                                  Open Burning, PET  4.452687e+10   2.990540\n",
      "9          Crude oil, on-shore import, at extraction  4.341747e+10   2.916030\n"
     ]
    }
   ],
   "source": [
    "# LCA Hotspots\n",
    "# Impact per provider for category 0\n",
    "CB = C @ B                                  # (n_impacts × n_providers)\n",
    "contrib = s * CB[0, :]                      # contribution per provider\n",
    "total_phi0 = contrib.sum()\n",
    "\n",
    "# Use provider names from A_index_df\n",
    "df = pd.DataFrame({\n",
    "    \"provider_name\": A_index_df[\"provider name\"].values,  # adjust column name if needed\n",
    "    \"contribution\": contrib\n",
    "})\n",
    "df[\"share_%\"] = 100 * df[\"contribution\"] / total_phi0\n",
    "\n",
    "# Top 10 contributors (by signed value)\n",
    "top10 = df.sort_values(\"contribution\", ascending=False).head(10)\n",
    "print(\"\\nTop 10 contributors to phi[0]:\")\n",
    "print(top10.reset_index(drop=True))\n",
    "\n",
    "# If you want absolute-value ranking (credits vs burdens):\n",
    "top10_abs = df.iloc[df[\"contribution\"].abs().sort_values(ascending=False).index].head(10)\n",
    "print(\"\\nTop 10 contributors to phi[x] (absolute):\")\n",
    "print(top10_abs.reset_index(drop=True))"
   ]
  },
  {
   "cell_type": "code",
   "execution_count": 52,
   "id": "3d868fb5-8ae8-4ae9-9bb0-846a2942a9b9",
   "metadata": {},
   "outputs": [
    {
     "name": "stdout",
     "output_type": "stream",
     "text": [
      "Total variable operating cost: $435.54 Billion\n"
     ]
    }
   ],
   "source": [
    "import numpy as np\n",
    "import pandas as pd\n",
    "\n",
    "ekey = lambda s: str(s).strip().casefold()\n",
    "\n",
    "# normalize and build index map\n",
    "A_index_df = A_index_df.copy()\n",
    "A_index_df[\"prov_key\"] = A_index_df[\"provider name\"].map(ekey)\n",
    "idx_map = A_index_df.groupby(\"prov_key\")[\"index\"].apply(lambda s: list(map(int, s))).to_dict()\n",
    "\n",
    "# foreground → column indices\n",
    "A_foreground_df = A_foreground_df.copy()\n",
    "A_foreground_df[\"prov_key\"] = A_foreground_df[\"provider name\"].map(ekey)\n",
    "fg_cols_by_name = {}\n",
    "for name, key in zip(A_foreground_df[\"provider name\"], A_foreground_df[\"prov_key\"]):\n",
    "    cols = idx_map.get(key, [])\n",
    "    if cols:\n",
    "        fg_cols_by_name.setdefault(name, []).extend(int(c) for c in cols)\n",
    "\n",
    "# financial rows → row indices with per-unit cost\n",
    "financial_df = financial_df.copy()\n",
    "if pd.api.types.is_numeric_dtype(financial_df[\"LCI Column Index\"]):\n",
    "    financial_df[\"row_index\"] = financial_df[\"LCI Column Index\"].astype(int)\n",
    "else:\n",
    "    financial_df[\"row_key\"] = financial_df[\"LCI Column Index\"].map(ekey)\n",
    "    financial_df[\"row_index\"] = financial_df[\"row_key\"].map(lambda k: idx_map.get(k, [None])[0])\n",
    "\n",
    "financial_df[\"Value\"] = pd.to_numeric(financial_df[\"Value\"], errors=\"coerce\")\n",
    "fin_rows = financial_df.dropna(subset=[\"row_index\", \"Value\"]).copy()\n",
    "fin_rows[\"row_index\"] = fin_rows[\"row_index\"].astype(int)\n",
    "cost_by_row = fin_rows.groupby(\"row_index\")[\"Value\"].sum().to_dict()\n",
    "\n",
    "# ABS versions of A and s\n",
    "A_abs = np.abs(A)\n",
    "s_abs = np.abs(s)\n",
    "\n",
    "# compute cost per foreground process\n",
    "cost_by_foreground = {}\n",
    "for fg_name, col_list in fg_cols_by_name.items():\n",
    "    total_cost_fg = 0.0\n",
    "    for c in set(col_list):\n",
    "        sc = float(s_abs[c]) if np.isfinite(s_abs[c]) else 0.0\n",
    "        if sc == 0.0:\n",
    "            continue\n",
    "        for r, unit_cost in cost_by_row.items():\n",
    "            a_val = float(A_abs[r, c]) if np.isfinite(A_abs[r, c]) else 0.0\n",
    "            if a_val != 0.0 and unit_cost is not None:\n",
    "                total_cost_fg += a_val * sc * float(unit_cost)\n",
    "    cost_by_foreground[fg_name] = total_cost_fg\n",
    "\n",
    "total_variable_cost = sum(cost_by_foreground.values())\n",
    "# print formatted in million dollars\n",
    "print(\"Total variable operating cost:\",\n",
    "      f\"${total_variable_cost/1e9:,.2f} Billion\")"
   ]
  },
  {
   "cell_type": "code",
   "execution_count": 53,
   "id": "83bd7133-48eb-4a2b-be86-ac5781fe73f7",
   "metadata": {},
   "outputs": [
    {
     "name": "stdout",
     "output_type": "stream",
     "text": [
      "Top 10 most expensive foreground processes:\n",
      "Hydrocarbon feedstock production for use in steam cracker: $141.02 Billion\n",
      "Xylenes, mixed, produced from naphtha, at plant, kg: $46.36 Billion\n",
      "PET Drinking Bottles: $31.35 Billion\n",
      "PP Other Food Rigid: $24.26 Billion\n",
      "Ethylene glycol, fossil: $11.35 Billion\n",
      "Polyethylene, low-density, LDPE, virgin resin, food grade: $10.74 Billion\n",
      "HDPE Non-food Bottles: $9.65 Billion\n",
      "Purified terephthalic acid, PTA, fossil: $9.58 Billion\n",
      "Ethanol, denatured, forest residues, thermochem: $9.36 Billion\n",
      "Propylene production, fossil, steam cracker: $7.96 Billion\n"
     ]
    }
   ],
   "source": [
    "# sort the processes by cost (descending)\n",
    "top10 = sorted(cost_by_foreground.items(), key=lambda x: x[1], reverse=True)[:10]\n",
    "\n",
    "print(\"Top 10 most expensive foreground processes:\")\n",
    "for name, val in top10:\n",
    "    print(f\"{name}: ${val/1e9:,.2f} Billion\")"
   ]
  },
  {
   "cell_type": "code",
   "execution_count": 54,
   "id": "ed4ae4bc-7a13-481a-9c62-d5c908bd05d8",
   "metadata": {},
   "outputs": [],
   "source": [
    "biodiversity_breakdown_df = pd.read_csv(\"data/biodiversity_breakdown.csv\")"
   ]
  },
  {
   "cell_type": "code",
   "execution_count": 55,
   "id": "e05ea558-8bf7-46ee-b836-312d5fffc2f2",
   "metadata": {},
   "outputs": [],
   "source": [
    "import numpy as np\n",
    "import pandas as pd\n",
    "\n",
    "# ---- Inputs assumed ----\n",
    "# C: (n_impacts x n_flows) numpy array\n",
    "# B: (n_flows x n_procs)   numpy array\n",
    "# s: (n_procs,)            numpy array\n",
    "# B_index_df: columns [\"index\" (int), \"flow name\" (str)]\n",
    "# biodiversity_breakdown_df: columns [\"flow name\", \"microplastic\", \"macroplastic\"]\n",
    "\n",
    "# 1) Build a direct mapping from exact flow name -> flow index (column in C, row in B)\n",
    "flow_idx_map = dict(zip(B_index_df[\"flow name\"], B_index_df[\"index\"].astype(int)))\n",
    "\n",
    "# 2) Keep only rows whose flow name exists in the map (exact match)\n",
    "bd_sub = biodiversity_breakdown_df[biodiversity_breakdown_df[\"flow name\"].isin(flow_idx_map)].copy()\n",
    "\n",
    "# 3) Indices for those flows, in the same order as bd_sub\n",
    "flow_indices = bd_sub[\"flow name\"].map(flow_idx_map).astype(int).to_numpy()\n",
    "\n",
    "# 4) Characterization factors (ensure numeric; NaN -> 0)\n",
    "micro_vals = pd.to_numeric(bd_sub[\"microplastic\"], errors=\"coerce\").fillna(0.0).to_numpy()\n",
    "macro_vals = pd.to_numeric(bd_sub[\"macroplastic\"], errors=\"coerce\").fillna(0.0).to_numpy()\n",
    "\n",
    "# 5) Create C variants and overwrite the SECOND row (index 1) at those columns\n",
    "row_phi1 = 1\n",
    "C_micro = C.copy()\n",
    "C_macro = C.copy()\n",
    "C_micro[row_phi1, flow_indices] = micro_vals\n",
    "C_macro[row_phi1, flow_indices] = macro_vals\n",
    "\n",
    "# 6) Compute phi = C @ (B @ s), then extract phi[1]\n",
    "inventory = B @ s  # shape (n_flows,)\n",
    "phi_micro = C_micro @ inventory\n",
    "phi_macro = C_macro @ inventory\n",
    "\n",
    "phi1_micro = float(phi_micro[row_phi1])\n",
    "phi1_macro = float(phi_macro[row_phi1])\n",
    "\n",
    "\n"
   ]
  },
  {
   "cell_type": "code",
   "execution_count": 56,
   "id": "b58e6ef2-d192-455a-b776-72ac0459b28c",
   "metadata": {},
   "outputs": [
    {
     "name": "stdout",
     "output_type": "stream",
     "text": [
      "Marine biodiversity loss due to microplastics (# of potentialy damaged species): 38131.57658369795\n",
      "Marine biodiversity loss due to macroplastics (# of potentialy damaged species): 0.01367274968422574\n",
      "Marine biodiversity loss (# of potentialy damaged species): 38131.590256447635\n",
      "Human health impacts due to plastic combustion (Disability-Adjusted Life Year (DALY))  44870925937.113754\n",
      "Global Warming Potential (kg CO2 eq.) 1488924117055.2402\n"
     ]
    }
   ],
   "source": [
    "print(\"Marine biodiversity loss due to microplastics (# of potentialy damaged species):\", phi1_micro)\n",
    "print(\"Marine biodiversity loss due to macroplastics (# of potentialy damaged species):\", phi1_macro)\n",
    "print(\"Marine biodiversity loss (# of potentialy damaged species):\", phi[1])\n",
    "print(\"Human health impacts due to plastic combustion (Disability-Adjusted Life Year (DALY)) \", phi[2])\n",
    "print(\"Global Warming Potential (kg CO2 eq.)\", phi[0])"
   ]
  },
  {
   "cell_type": "code",
   "execution_count": 57,
   "id": "e70c3e5a-502f-4e9c-a6dc-d12c368ba0a8",
   "metadata": {},
   "outputs": [
    {
     "name": "stdout",
     "output_type": "stream",
     "text": [
      "Marine biodiversity loss due to microplastics (direct - pellets mishandling): 1300.8219245369783\n",
      "Marine biodiversity loss due to microplastics (degradation): 36830.75465916097\n"
     ]
    }
   ],
   "source": [
    "import numpy as np\n",
    "import pandas as pd\n",
    "\n",
    "# Assumes you already have: C (n_impacts x n_flows), B (n_flows x n_procs), s (n_procs,)\n",
    "# B_index_df: columns [\"index\" (int), \"flow name\" (str)]\n",
    "# biodiversity_breakdown_df: columns [\"flow name\", \"microplastic_direct\", \"microplastic_degradation\"]\n",
    "\n",
    "# 1) Exact mapping: flow name -> flow index\n",
    "flow_idx_map = dict(zip(B_index_df[\"flow name\"], B_index_df[\"index\"].astype(int)))\n",
    "\n",
    "# 2) Keep only rows whose flow name exists in B_index_df\n",
    "bd_sub = biodiversity_breakdown_df[\n",
    "    biodiversity_breakdown_df[\"flow name\"].isin(flow_idx_map)\n",
    "].copy()\n",
    "\n",
    "# 3) Flow indices in the same order as bd_sub\n",
    "flow_indices = bd_sub[\"flow name\"].map(flow_idx_map).astype(int).to_numpy()\n",
    "\n",
    "# 4) New CF vectors (ensure numeric; NaN -> 0)\n",
    "mp_direct_vals = pd.to_numeric(bd_sub[\"microplastic-direct\"], errors=\"coerce\").fillna(0.0).to_numpy()\n",
    "mp_degrad_vals = pd.to_numeric(bd_sub[\"microplastic-degradation\"], errors=\"coerce\").fillna(0.0).to_numpy()\n",
    "\n",
    "# 5) Create C variants and overwrite the SECOND row (index 1) at those columns\n",
    "row_phi1 = 1\n",
    "C_micro_direct = C.copy()\n",
    "C_micro_degrad = C.copy()\n",
    "\n",
    "C_micro_direct[row_phi1, flow_indices] = mp_direct_vals\n",
    "C_micro_degrad[row_phi1, flow_indices] = mp_degrad_vals\n",
    "\n",
    "# 6) Compute phi = C @ (B @ s), then extract phi[1] for each\n",
    "inventory = B @ s  # shape (n_flows,)\n",
    "\n",
    "phi_micro_direct  = C_micro_direct  @ inventory\n",
    "phi_micro_degrad  = C_micro_degrad  @ inventory\n",
    "\n",
    "phi1_micro_direct = float(phi_micro_direct[row_phi1])\n",
    "phi1_micro_degrad = float(phi_micro_degrad[row_phi1])\n",
    "\n",
    "print(\"Marine biodiversity loss due to microplastics (direct - pellets mishandling):\",     phi1_micro_direct)\n",
    "print(\"Marine biodiversity loss due to microplastics (degradation):\", phi1_micro_degrad)"
   ]
  },
  {
   "cell_type": "code",
   "execution_count": 60,
   "id": "b1606874-65c2-4b15-b8ba-f59dceca5b77",
   "metadata": {},
   "outputs": [],
   "source": [
    "plastic_flows_df = pd.read_csv(\"data/plastic_flows.csv\")"
   ]
  },
  {
   "cell_type": "code",
   "execution_count": 61,
   "id": "f56e4ddb-955f-4e46-add2-a5c2e82d596b",
   "metadata": {},
   "outputs": [
    {
     "name": "stdout",
     "output_type": "stream",
     "text": [
      "Total generated amounts (Million metric tons) for each scenario:\n",
      "microplastic_enable: 17.70 MMT\n",
      "macroplastic_enable: 16.93 MMT\n",
      "microplastic_direct_enable: 0.77 MMT\n",
      "microplastic_degradation_enable: 16.93 MMT\n"
     ]
    }
   ],
   "source": [
    "import numpy as np\n",
    "import pandas as pd\n",
    "\n",
    "# Assumes:\n",
    "# B (n_flows x n_procs), s (n_procs,), B_index_df (with [\"index\",\"flow name\"])\n",
    "# plastic_flows_df: [\"flow name\", plus one or more scenario columns with 0/1 flags]\n",
    "\n",
    "# 1) Map flow names -> row indices in B\n",
    "flow_to_idx = dict(zip(B_index_df[\"flow name\"], B_index_df[\"index\"].astype(int)))\n",
    "\n",
    "# 2) Keep only flows that exist in B_index_df\n",
    "pf = plastic_flows_df.copy()\n",
    "pf = pf[pf[\"flow name\"].isin(flow_to_idx)].copy()\n",
    "pf[\"row_index\"] = pf[\"flow name\"].map(flow_to_idx).astype(int)\n",
    "\n",
    "# 3) Inventory vector g = B @ s\n",
    "g = B @ s   # shape (n_flows,)\n",
    "\n",
    "# 4) Detect scenario columns (all except \"flow name\" and \"row_index\")\n",
    "scenario_cols = [c for c in pf.columns if c not in [\"flow name\", \"row_index\"]]\n",
    "\n",
    "# 5) Compute sum of g for each scenario\n",
    "g_sums = {}\n",
    "for sc in scenario_cols:\n",
    "    enable_mask = pd.to_numeric(pf[sc], errors=\"coerce\").fillna(0).astype(int).to_numpy()\n",
    "    rows = pf[\"row_index\"].to_numpy()\n",
    "    total_kg = float(np.sum(g[rows] * enable_mask))  # kg\n",
    "    g_sums[sc] = total_kg / 1e9  # convert to million metric tons\n",
    "\n",
    "# 6) Display results\n",
    "print(\"Total generated amounts (Million metric tons) for each scenario:\")\n",
    "for sc, val in g_sums.items():\n",
    "    print(f\"{sc}: {val:,.2f} MMT\")"
   ]
  },
  {
   "cell_type": "code",
   "execution_count": 62,
   "id": "750f0cc3-1949-4dca-baca-2102fc946e76",
   "metadata": {},
   "outputs": [
    {
     "name": "stdout",
     "output_type": "stream",
     "text": [
      "Macroplastics from Use & Collection only (Million metric tons):\n",
      "macroplastic_enable: 10.30 MMT\n"
     ]
    }
   ],
   "source": [
    "import numpy as np\n",
    "import pandas as pd\n",
    "import re\n",
    "\n",
    "# Assumes:\n",
    "# B (n_flows x n_procs), s (n_procs,), A_index_df ([\"index\",\"provider name\"]),\n",
    "# B_index_df ([\"index\",\"flow name\"]), plastic_flows_df ([\"flow name\", ...macro... flags])\n",
    "\n",
    "# 1) Get the Use & Collection process column index\n",
    "use_col = int(\n",
    "    A_index_df.loc[A_index_df[\"provider name\"] == \"Use & Collection\", \"index\"].iloc[0]\n",
    ")\n",
    "\n",
    "# 2) Inventory from Use & Collection only\n",
    "#    (contribution of that one process to each flow)\n",
    "g_use = B[:, use_col] * float(s[use_col])\n",
    "\n",
    "# 3) Map exact flow names -> row indices in B\n",
    "flow_to_idx = dict(zip(B_index_df[\"flow name\"], B_index_df[\"index\"].astype(int)))\n",
    "\n",
    "# 4) Align plastic_flows_df to B rows\n",
    "pf = plastic_flows_df.copy()\n",
    "pf = pf[pf[\"flow name\"].isin(flow_to_idx)].copy()\n",
    "pf[\"row_index\"] = pf[\"flow name\"].map(flow_to_idx).astype(int)\n",
    "\n",
    "# 5) Detect macro scenario columns (flexible: any column name containing \"macro\")\n",
    "id_cols = {\"flow name\", \"row_index\"}\n",
    "macro_cols = [c for c in pf.columns\n",
    "              if c not in id_cols and re.search(r\"macro\", str(c), flags=re.I)]\n",
    "\n",
    "if not macro_cols:\n",
    "    raise ValueError(\"No macro scenario columns found in plastic_flows_df. \"\n",
    "                     \"Add columns like 'macroplastic_enable', 'macro_litter_enable', or 'macro_mismanage_enable' with 0/1 flags.\")\n",
    "\n",
    "# 6) Sum g_use over enabled flows for each macro scenario, in MMT\n",
    "macro_sums_mmt = {}\n",
    "rows = pf[\"row_index\"].to_numpy()\n",
    "for col in macro_cols:\n",
    "    enable_mask = pd.to_numeric(pf[col], errors=\"coerce\").fillna(0).astype(int).to_numpy()\n",
    "    total_kg = float(np.sum(g_use[rows] * enable_mask))     # sum only enabled flows\n",
    "    macro_sums_mmt[col] = total_kg / 1e9                    # kg -> Million metric tons\n",
    "\n",
    "# 7) Pretty print\n",
    "print(\"Macroplastics from Use & Collection only (Million metric tons):\")\n",
    "for col in macro_cols:\n",
    "    print(f\"{col}: {macro_sums_mmt[col]:,.2f} MMT\")"
   ]
  },
  {
   "cell_type": "code",
   "execution_count": 63,
   "id": "912eaec7-0b52-44b3-a5c8-fa21d362399a",
   "metadata": {},
   "outputs": [],
   "source": [
    "ghg_grouping_df = pd.read_csv(\"data/GHG_grouping.csv\")"
   ]
  },
  {
   "cell_type": "code",
   "execution_count": 64,
   "id": "00ce5850-ee91-4605-afac-555453a3d037",
   "metadata": {},
   "outputs": [
    {
     "name": "stdout",
     "output_type": "stream",
     "text": [
      "\n",
      "Top 10 contributors to phi[0] (with grouping):\n",
      "                                  grouped_name  contribution    share_%\n",
      "0                           Fossil Electricity  2.941716e+11  19.757329\n",
      "1                                  Fossil Heat  2.684692e+11  18.031089\n",
      "2          Steam Cracker CO2 to the atmosphere  2.054939e+11  13.801505\n",
      "3                             Open Burning EOL  1.976992e+11  13.277990\n",
      "4   Plastic Incineration CO2 to the atmosphere  1.908820e+11  12.820128\n",
      "5              Petroleum refining, at refinery  5.974148e+10   4.012393\n",
      "6    Crude oil, on-shore import, at extraction  4.341747e+10   2.916030\n",
      "7  Crude oil, on-shore domestic, at extraction  3.734687e+10   2.508313\n",
      "8      Purified terephthalic acid, PTA, fossil  1.501752e+10   1.008616\n",
      "9        Natural gas, at processing, shale, kg  1.434037e+10   0.963136\n",
      "\n",
      "Top 10 contributors to phi[0] (absolute, with grouping):\n",
      "                                  grouped_name  contribution    share_%\n",
      "0                           Fossil Electricity  2.941716e+11  19.757329\n",
      "1                                  Fossil Heat  2.684692e+11  18.031089\n",
      "2          Steam Cracker CO2 to the atmosphere  2.054939e+11  13.801505\n",
      "3                             Open Burning EOL  1.976992e+11  13.277990\n",
      "4   Plastic Incineration CO2 to the atmosphere  1.908820e+11  12.820128\n",
      "5              Petroleum refining, at refinery  5.974148e+10   4.012393\n",
      "6    Crude oil, on-shore import, at extraction  4.341747e+10   2.916030\n",
      "7  Crude oil, on-shore domestic, at extraction  3.734687e+10   2.508313\n",
      "8      Purified terephthalic acid, PTA, fossil  1.501752e+10   1.008616\n",
      "9        Natural gas, at processing, shale, kg  1.434037e+10   0.963136\n"
     ]
    }
   ],
   "source": [
    "import pandas as pd\n",
    "import numpy as np\n",
    "\n",
    "# ---- baseline hotspot setup ----\n",
    "CB = C @ B                                  # (n_impacts × n_providers)\n",
    "contrib = s * CB[0, :]                      # contribution per provider\n",
    "total_phi0 = contrib.sum()\n",
    "\n",
    "df = pd.DataFrame({\n",
    "    \"provider_name\": A_index_df[\"provider name\"].values,\n",
    "    \"contribution\": contrib\n",
    "})\n",
    "df[\"share_%\"] = 100 * df[\"contribution\"] / total_phi0\n",
    "\n",
    "# ---- grouping across multiple columns with precedence ----\n",
    "group_cols = [\"Open Burning EOL\", \"Fossil Electricity\", \"Fossil Heat\"]  # left wins on conflicts\n",
    "\n",
    "# Build case-insensitive mapping: provider -> group label\n",
    "name_to_group = {}\n",
    "# canonicalize provider names in df once\n",
    "df[\"_key\"] = df[\"provider_name\"].astype(str).str.strip().str.casefold()\n",
    "\n",
    "for col in group_cols:\n",
    "    if col not in ghg_grouping_df.columns:\n",
    "        continue\n",
    "    col_vals = (\n",
    "        ghg_grouping_df[col]\n",
    "        .dropna()\n",
    "        .astype(str)\n",
    "        .str.strip()\n",
    "        .replace({\"\": np.nan})\n",
    "        .dropna()\n",
    "        .str.casefold()\n",
    "        .unique()\n",
    "    )\n",
    "    for nkey in col_vals:\n",
    "        name_to_group.setdefault(nkey, col)\n",
    "\n",
    "# Apply mapping; fall back to original provider when not grouped\n",
    "df[\"grouped_name\"] = df[\"_key\"].map(lambda k: name_to_group.get(k, None))\n",
    "# If not grouped, keep the original display name\n",
    "df[\"grouped_name\"] = np.where(df[\"grouped_name\"].isna(), df[\"provider_name\"], df[\"grouped_name\"])\n",
    "\n",
    "# Aggregate\n",
    "df_grouped = (\n",
    "    df.groupby(\"grouped_name\", as_index=False)\n",
    "      .agg(contribution=(\"contribution\", \"sum\"))\n",
    ")\n",
    "df_grouped[\"share_%\"] = 100 * df_grouped[\"contribution\"] / total_phi0\n",
    "\n",
    "# Rankings\n",
    "top10 = df_grouped.sort_values(\"contribution\", ascending=False).head(10)\n",
    "print(\"\\nTop 10 contributors to phi[0] (with grouping):\")\n",
    "print(top10.reset_index(drop=True))\n",
    "\n",
    "top10_abs = df_grouped.iloc[df_grouped[\"contribution\"].abs().sort_values(ascending=False).index].head(10)\n",
    "print(\"\\nTop 10 contributors to phi[0] (absolute, with grouping):\")\n",
    "print(top10_abs.reset_index(drop=True))\n"
   ]
  },
  {
   "cell_type": "code",
   "execution_count": 81,
   "id": "c2da91b1-c53a-4a86-9f4d-91e1b7895fd7",
   "metadata": {},
   "outputs": [],
   "source": [
    "# LCA Calculations\n",
    "packaging_demand_2025 = 4.29e+11 #429 MMT\n",
    "f = np.zeros(len(A))\n",
    "f[0] = 1\n",
    "s = np.linalg.solve(A, f)\n",
    "g = B@s\n",
    "phi = C@g\n",
    "phi_normalized = phi/packaging_demand_2025"
   ]
  },
  {
   "cell_type": "code",
   "execution_count": 82,
   "id": "73b0a424-8474-4b7b-aded-be490602d45b",
   "metadata": {},
   "outputs": [
    {
     "data": {
      "text/plain": [
       "array([-2.66079211e-02, -4.29366005e-03, -1.55332251e-03, -7.01953801e-17,\n",
       "       -5.07379099e-17, -5.07379099e-17, -6.34189548e-19, -6.34189548e-19,\n",
       "       -5.59292642e-20, -5.42101086e-20, -3.18882992e-20, -2.04759876e-20,\n",
       "       -3.63826232e-24, -2.55913273e-24, -2.07701566e-24, -2.07701566e-24,\n",
       "       -2.07701566e-24, -0.00000000e+00, -0.00000000e+00, -0.00000000e+00,\n",
       "       -0.00000000e+00, -0.00000000e+00, -0.00000000e+00, -0.00000000e+00,\n",
       "       -0.00000000e+00, -0.00000000e+00, -0.00000000e+00, -0.00000000e+00,\n",
       "       -0.00000000e+00, -0.00000000e+00, -0.00000000e+00, -0.00000000e+00,\n",
       "       -0.00000000e+00, -0.00000000e+00, -0.00000000e+00, -0.00000000e+00,\n",
       "       -0.00000000e+00, -0.00000000e+00, -0.00000000e+00, -0.00000000e+00,\n",
       "       -0.00000000e+00,  0.00000000e+00, -0.00000000e+00, -0.00000000e+00,\n",
       "       -0.00000000e+00, -0.00000000e+00, -0.00000000e+00, -0.00000000e+00,\n",
       "       -0.00000000e+00, -0.00000000e+00, -0.00000000e+00, -0.00000000e+00,\n",
       "       -0.00000000e+00, -0.00000000e+00,  0.00000000e+00, -0.00000000e+00,\n",
       "       -0.00000000e+00, -0.00000000e+00, -0.00000000e+00, -0.00000000e+00,\n",
       "       -0.00000000e+00, -0.00000000e+00, -0.00000000e+00, -0.00000000e+00,\n",
       "       -0.00000000e+00, -0.00000000e+00, -0.00000000e+00,  0.00000000e+00,\n",
       "       -0.00000000e+00, -0.00000000e+00, -0.00000000e+00, -0.00000000e+00,\n",
       "       -0.00000000e+00, -0.00000000e+00, -0.00000000e+00, -0.00000000e+00,\n",
       "       -0.00000000e+00, -0.00000000e+00, -0.00000000e+00, -0.00000000e+00,\n",
       "       -0.00000000e+00, -0.00000000e+00, -0.00000000e+00, -0.00000000e+00,\n",
       "       -0.00000000e+00,  0.00000000e+00, -0.00000000e+00, -0.00000000e+00,\n",
       "       -0.00000000e+00, -0.00000000e+00, -0.00000000e+00, -0.00000000e+00,\n",
       "       -0.00000000e+00, -0.00000000e+00, -0.00000000e+00, -0.00000000e+00,\n",
       "       -0.00000000e+00, -0.00000000e+00, -0.00000000e+00, -0.00000000e+00,\n",
       "       -0.00000000e+00, -0.00000000e+00,  0.00000000e+00,  0.00000000e+00,\n",
       "       -0.00000000e+00, -0.00000000e+00, -0.00000000e+00, -0.00000000e+00,\n",
       "       -0.00000000e+00, -0.00000000e+00, -0.00000000e+00, -0.00000000e+00,\n",
       "       -0.00000000e+00, -0.00000000e+00, -0.00000000e+00, -0.00000000e+00,\n",
       "       -0.00000000e+00, -0.00000000e+00, -0.00000000e+00, -0.00000000e+00,\n",
       "        0.00000000e+00, -0.00000000e+00, -0.00000000e+00, -0.00000000e+00,\n",
       "        0.00000000e+00, -0.00000000e+00,  0.00000000e+00, -0.00000000e+00,\n",
       "       -0.00000000e+00, -0.00000000e+00, -0.00000000e+00, -0.00000000e+00,\n",
       "       -0.00000000e+00, -0.00000000e+00, -0.00000000e+00, -0.00000000e+00,\n",
       "       -0.00000000e+00, -0.00000000e+00, -0.00000000e+00, -0.00000000e+00,\n",
       "       -0.00000000e+00, -0.00000000e+00, -0.00000000e+00, -0.00000000e+00,\n",
       "       -0.00000000e+00, -0.00000000e+00, -0.00000000e+00, -0.00000000e+00,\n",
       "       -0.00000000e+00,  0.00000000e+00, -0.00000000e+00, -0.00000000e+00,\n",
       "       -0.00000000e+00, -0.00000000e+00, -0.00000000e+00,  0.00000000e+00,\n",
       "       -0.00000000e+00, -0.00000000e+00, -0.00000000e+00, -0.00000000e+00,\n",
       "        0.00000000e+00, -0.00000000e+00, -0.00000000e+00, -0.00000000e+00,\n",
       "       -0.00000000e+00, -0.00000000e+00, -0.00000000e+00,  0.00000000e+00,\n",
       "       -0.00000000e+00, -0.00000000e+00, -0.00000000e+00, -0.00000000e+00,\n",
       "       -0.00000000e+00, -0.00000000e+00, -0.00000000e+00, -0.00000000e+00,\n",
       "       -0.00000000e+00, -0.00000000e+00,  0.00000000e+00, -0.00000000e+00,\n",
       "       -0.00000000e+00, -0.00000000e+00, -0.00000000e+00, -0.00000000e+00,\n",
       "       -0.00000000e+00, -0.00000000e+00, -0.00000000e+00, -0.00000000e+00,\n",
       "       -0.00000000e+00, -0.00000000e+00, -0.00000000e+00, -0.00000000e+00,\n",
       "        0.00000000e+00, -0.00000000e+00, -0.00000000e+00, -0.00000000e+00,\n",
       "       -0.00000000e+00, -0.00000000e+00, -0.00000000e+00, -0.00000000e+00,\n",
       "       -0.00000000e+00, -0.00000000e+00, -0.00000000e+00, -0.00000000e+00,\n",
       "       -0.00000000e+00, -0.00000000e+00, -0.00000000e+00,  0.00000000e+00,\n",
       "       -0.00000000e+00, -0.00000000e+00, -0.00000000e+00, -0.00000000e+00,\n",
       "       -0.00000000e+00, -0.00000000e+00, -0.00000000e+00, -0.00000000e+00,\n",
       "       -0.00000000e+00, -0.00000000e+00, -0.00000000e+00, -0.00000000e+00,\n",
       "       -0.00000000e+00, -0.00000000e+00, -0.00000000e+00, -0.00000000e+00,\n",
       "       -0.00000000e+00, -0.00000000e+00, -0.00000000e+00, -0.00000000e+00,\n",
       "       -0.00000000e+00, -0.00000000e+00, -0.00000000e+00, -0.00000000e+00,\n",
       "       -0.00000000e+00, -0.00000000e+00, -0.00000000e+00, -0.00000000e+00,\n",
       "       -0.00000000e+00, -0.00000000e+00, -0.00000000e+00, -0.00000000e+00,\n",
       "       -0.00000000e+00, -0.00000000e+00, -0.00000000e+00, -0.00000000e+00,\n",
       "       -0.00000000e+00, -0.00000000e+00, -0.00000000e+00, -0.00000000e+00,\n",
       "       -0.00000000e+00, -0.00000000e+00, -0.00000000e+00, -0.00000000e+00,\n",
       "       -0.00000000e+00, -0.00000000e+00, -0.00000000e+00, -0.00000000e+00,\n",
       "       -0.00000000e+00, -0.00000000e+00, -0.00000000e+00,  2.11699527e-20,\n",
       "        2.59598528e-20,  2.90750351e-20,  2.90750351e-20,  5.71122478e-20,\n",
       "        8.03371927e-19,  1.90268822e-18,  1.90268822e-18,  1.90268822e-18,\n",
       "        3.40441598e-17,  3.91351274e-17,  5.18110889e-17,  5.18110889e-17,\n",
       "        5.32767436e-17,  1.09629663e-16,  1.10427604e-16,  3.11853029e-16,\n",
       "        4.33079588e-16,  5.15839874e-16,  5.17387393e-16,  6.05663533e-16,\n",
       "        7.43999818e-16,  7.91301341e-16,  8.69333847e-16,  1.61426646e-15,\n",
       "        1.88226519e-15,  1.90463953e-15,  2.72309221e-15,  2.93183157e-15,\n",
       "        2.93183157e-15,  3.30666586e-15,  3.45128154e-15,  4.21795731e-15,\n",
       "        5.17698138e-15,  6.66874409e-15,  3.07277245e-14,  3.17468023e-14,\n",
       "        3.67363546e-14,  4.03511255e-14,  8.44771168e-14,  1.18150065e-13,\n",
       "        1.89424278e-13,  2.06304141e-13,  2.55063433e-13,  3.29534678e-13,\n",
       "        3.73248640e-13,  5.33144471e-13,  6.08028679e-13,  6.08028679e-13,\n",
       "        6.22352971e-13,  7.19625705e-13,  8.20465105e-13,  1.01885887e-12,\n",
       "        1.10636290e-12,  2.33857134e-12,  5.87699026e-12,  9.49977116e-12,\n",
       "        1.05276032e-11,  1.20543278e-11,  1.31334195e-11,  1.46329112e-11,\n",
       "        1.81562074e-11,  2.29117559e-11,  3.39104811e-11,  3.97766675e-11,\n",
       "        7.06468357e-11,  7.08409117e-11,  7.10670477e-11,  9.18686918e-11,\n",
       "        1.32656226e-10,  2.10141541e-10,  2.13430423e-10,  2.20824528e-10,\n",
       "        2.95050526e-10,  4.83731156e-10,  5.09693422e-10,  6.15817577e-10,\n",
       "        6.31353667e-10,  6.34925618e-10,  6.39077447e-10,  6.51620156e-10,\n",
       "        6.63708087e-10,  6.90684691e-10,  7.52325248e-10,  7.71313033e-10,\n",
       "        8.52767984e-10,  8.68239746e-10,  8.68239746e-10,  9.24154704e-10,\n",
       "        1.32743562e-09,  1.34423847e-09,  2.56663830e-09,  2.62034501e-09,\n",
       "        2.93732434e-09,  3.05508743e-09,  3.11367358e-09,  3.31053896e-09,\n",
       "        5.26199371e-09,  5.57071780e-09,  6.06491509e-09,  6.99627621e-09,\n",
       "        8.00234136e-09,  8.00234136e-09,  8.00234136e-09,  9.81788009e-09,\n",
       "        9.85984561e-09,  1.23174356e-08,  1.23449886e-08,  1.36306106e-08,\n",
       "        1.52086196e-08,  1.60113759e-08,  1.65613288e-08,  1.73502386e-08,\n",
       "        3.11394802e-08,  3.46609296e-08,  3.55660100e-08,  4.18110691e-08,\n",
       "        4.45954642e-08,  4.83620657e-08,  5.25928813e-08,  5.29410090e-08,\n",
       "        5.79272839e-08,  6.05379251e-08,  6.09809811e-08,  6.38778268e-08,\n",
       "        6.58641812e-08,  6.58641812e-08,  6.58641812e-08,  6.58641812e-08,\n",
       "        6.64592399e-08,  6.65210771e-08,  7.05078228e-08,  7.40699318e-08,\n",
       "        9.56458302e-08,  1.14997263e-07,  1.15276379e-07,  2.07220161e-07,\n",
       "        2.37308203e-07,  2.37308203e-07,  2.44194559e-07,  3.06220134e-07,\n",
       "        3.06220134e-07,  3.06220134e-07,  3.06220134e-07,  3.19045277e-07,\n",
       "        3.19528265e-07,  3.62585734e-07,  3.76090808e-07,  3.76090808e-07,\n",
       "        3.92114727e-07,  3.92114727e-07,  4.18831937e-07,  4.82650429e-07,\n",
       "        5.87025556e-07,  5.97774900e-07,  7.84229454e-07,  7.84229454e-07,\n",
       "        7.84229454e-07,  7.84229454e-07,  8.81788237e-07,  1.04677082e-06,\n",
       "        1.04677082e-06,  1.04677082e-06,  1.04677082e-06,  1.04677082e-06,\n",
       "        1.04677082e-06,  1.04677082e-06,  1.04677082e-06,  1.04677082e-06,\n",
       "        1.04677082e-06,  1.04677082e-06,  1.04677082e-06,  1.09561468e-06,\n",
       "        1.09561468e-06,  1.10831108e-06,  1.10870263e-06,  1.31805548e-06,\n",
       "        1.68297220e-06,  1.69031695e-06,  2.44030969e-06,  2.47186542e-06,\n",
       "        2.76606798e-06,  3.07806513e-06,  4.83479546e-06,  5.99012007e-06,\n",
       "        6.28476689e-06,  9.28241649e-06,  9.33888110e-06,  1.24430481e-05,\n",
       "        1.36679991e-05,  2.18865936e-05,  2.18866113e-05,  2.27431206e-05,\n",
       "        2.36241369e-05,  2.96411998e-05,  2.96411998e-05,  2.96411998e-05,\n",
       "        2.96411998e-05,  2.96411998e-05,  2.96411998e-05,  2.96411998e-05,\n",
       "        2.96411998e-05,  2.96411998e-05,  2.96411998e-05,  2.96411998e-05,\n",
       "        2.96411998e-05,  2.96411998e-05,  2.96411998e-05,  3.12091313e-05,\n",
       "        4.01483645e-05,  4.52298806e-05,  4.53451804e-05,  4.80001896e-05,\n",
       "        7.46582883e-05,  1.83468382e-04,  1.95493600e-04,  1.95493600e-04,\n",
       "        1.95493600e-04,  2.11531817e-04,  2.21773641e-04,  2.48860961e-04,\n",
       "        2.73747057e-04,  2.89899084e-04,  3.18154126e-04,  3.55350000e-04,\n",
       "        3.56378625e-04,  4.30938209e-04,  4.35506682e-04,  4.78638507e-04,\n",
       "        4.95644558e-04,  5.44969972e-04,  5.58062125e-04,  5.58251184e-04,\n",
       "        6.40361637e-04,  6.40975045e-04,  7.05919653e-04,  7.41052724e-04,\n",
       "        7.84229454e-04,  9.70862679e-04,  9.74789882e-04,  1.07993523e-03,\n",
       "        1.08401927e-03,  1.20349058e-03,  1.23712934e-03,  1.39956033e-03,\n",
       "        1.61907837e-03,  1.61907837e-03,  1.99886218e-03,  2.84512876e-03,\n",
       "        3.11483431e-03,  3.13024893e-03,  3.25209889e-03,  3.48861443e-03,\n",
       "        3.84000000e-03,  3.89032555e-03,  4.00000000e-03,  4.00000000e-03,\n",
       "        4.14662079e-03,  4.29293497e-03,  4.47180726e-03,  4.80000000e-03,\n",
       "        5.00000000e-03,  5.00000000e-03,  5.15000000e-03,  5.45096004e-03,\n",
       "        5.46000000e-03,  6.10507525e-03,  6.64278183e-03,  7.00000000e-03,\n",
       "        7.51263620e-03,  7.52642249e-03,  7.68000000e-03,  7.68000000e-03,\n",
       "        7.82566271e-03,  8.00000000e-03,  8.00000000e-03,  9.31120046e-03,\n",
       "        9.59368967e-03,  9.60000000e-03,  1.00000000e-02,  1.03000000e-02,\n",
       "        1.05600000e-02,  1.10000000e-02,  1.10745681e-02,  1.13300000e-02,\n",
       "        1.19923217e-02,  1.24800000e-02,  1.29127572e-02,  1.30000000e-02,\n",
       "        1.33900000e-02,  1.34400000e-02,  1.40000000e-02,  1.44200000e-02,\n",
       "        1.45800000e-02,  1.67889569e-02,  1.77056679e-02,  1.80000000e-02,\n",
       "        1.92000000e-02,  1.92000000e-02,  1.95000000e-02,  1.98291995e-02,\n",
       "        2.00000000e-02,  2.00000000e-02,  2.00000000e-02,  2.10600000e-02,\n",
       "        2.16435472e-02,  2.18400000e-02,  2.20800000e-02,  2.30000000e-02,\n",
       "        2.40000000e-02,  2.40000000e-02,  2.47200000e-02,  2.47200000e-02,\n",
       "        2.49694211e-02,  2.50000000e-02,  2.50000000e-02,  2.50000000e-02,\n",
       "        2.50000000e-02,  2.53895000e-02,  2.53895000e-02,  2.57500000e-02,\n",
       "        2.59200000e-02,  2.60000000e-02,  2.66449237e-02,  2.70000000e-02,\n",
       "        2.78100000e-02,  2.80000000e-02,  2.96125000e-02,  2.99700000e-02,\n",
       "        3.05974363e-02,  3.24708946e-02,  3.68996556e-02,  3.78762075e-02,\n",
       "        4.03760000e-02,  4.45392003e-02,  4.95430000e-02,  5.24701323e-02,\n",
       "        5.35455135e-02,  5.37600000e-02,  5.46000000e-02,  5.60000000e-02,\n",
       "        5.76800000e-02,  5.89675000e-02,  6.19447391e-02,  6.20441444e-02,\n",
       "        6.45743973e-02,  6.64200000e-02,  7.00000000e-02,  7.16875328e-02,\n",
       "        7.79436006e-02,  8.20000000e-02,  8.37411888e-02,  8.44600000e-02,\n",
       "        8.71828696e-02,  1.00440000e-01,  1.04039241e-01,  1.04039241e-01,\n",
       "        1.08482904e-01,  1.14452473e-01,  1.24000000e-01,  1.32480000e-01,\n",
       "        1.38000000e-01,  1.53470000e-01,  1.67782644e-01,  1.68456469e-01,\n",
       "        1.70654392e-01,  1.73826407e-01,  1.74720000e-01,  1.82000000e-01,\n",
       "        1.96186056e-01,  2.07812800e-01,  2.29587000e-01,  2.31168412e-01,\n",
       "        2.54015406e-01,  2.59163799e-01,  2.59163799e-01,  3.07257920e-01,\n",
       "        3.07257920e-01,  3.10857443e-01,  3.23545502e-01,  3.72494968e-01,\n",
       "        4.21868966e-01,  4.35476313e-01,  4.41190296e-01,  4.44946349e-01,\n",
       "        4.44946349e-01,  4.79006859e-01,  4.79006859e-01,  5.96797265e-01,\n",
       "        5.99658655e-01,  6.34402946e-01,  6.34402946e-01,  8.17699340e-01,\n",
       "        1.00000000e+00,  3.07420938e+00,  4.47949730e+00,  6.22903827e+00,\n",
       "        7.57567613e+00,  1.19428376e+01])"
      ]
     },
     "execution_count": 82,
     "metadata": {},
     "output_type": "execute_result"
    }
   ],
   "source": [
    "np.sort(s)"
   ]
  },
  {
   "cell_type": "code",
   "execution_count": 83,
   "id": "f7e0563b-7562-4903-8b34-25a4a9cea2e0",
   "metadata": {},
   "outputs": [
    {
     "data": {
      "text/plain": [
       "(array([287]),)"
      ]
     },
     "execution_count": 83,
     "metadata": {},
     "output_type": "execute_result"
    }
   ],
   "source": [
    "np.where(s == np.sort(s)[0])"
   ]
  },
  {
   "cell_type": "code",
   "execution_count": 84,
   "id": "427e25c2-05a7-4208-ac73-71ff6706a831",
   "metadata": {},
   "outputs": [
    {
     "data": {
      "text/plain": [
       "(array([266]),)"
      ]
     },
     "execution_count": 84,
     "metadata": {},
     "output_type": "execute_result"
    }
   ],
   "source": [
    "np.where(s == np.sort(s)[1])"
   ]
  },
  {
   "cell_type": "code",
   "execution_count": 85,
   "id": "023a7852-e08a-4c62-8a4a-a9e8be3be74a",
   "metadata": {},
   "outputs": [
    {
     "data": {
      "text/plain": [
       "(array([171]),)"
      ]
     },
     "execution_count": 85,
     "metadata": {},
     "output_type": "execute_result"
    }
   ],
   "source": [
    "np.where(s == np.sort(s)[2])"
   ]
  },
  {
   "cell_type": "code",
   "execution_count": 76,
   "id": "f1079438-abec-4bd2-9792-0ddb4f705d41",
   "metadata": {},
   "outputs": [],
   "source": [
    "A_index_df.to_csv(\"A_index_df.csv\", index=False)"
   ]
  },
  {
   "cell_type": "code",
   "execution_count": 79,
   "id": "66b4ee68-1640-44e2-ae16-4c93a68c9ef9",
   "metadata": {},
   "outputs": [
    {
     "data": {
      "text/plain": [
       "(array([615]),)"
      ]
     },
     "execution_count": 79,
     "metadata": {},
     "output_type": "execute_result"
    }
   ],
   "source": [
    "np.where(s == np.sort(s)[-1])"
   ]
  },
  {
   "cell_type": "code",
   "execution_count": 80,
   "id": "c5a534a1-a777-45c8-ae4f-fb0757a09183",
   "metadata": {},
   "outputs": [
    {
     "data": {
      "text/plain": [
       "3.4706855875413525"
      ]
     },
     "execution_count": 80,
     "metadata": {},
     "output_type": "execute_result"
    }
   ],
   "source": [
    "phi_normalized[0]"
   ]
  },
  {
   "cell_type": "markdown",
   "id": "6640400c-c8de-4058-8c60-4ec6fc8a36df",
   "metadata": {},
   "source": [
    "## 2.2. Optimization"
   ]
  },
  {
   "cell_type": "markdown",
   "id": "9fd51636-0052-45d7-8f49-ae14968d8ef0",
   "metadata": {
    "tags": []
   },
   "source": [
    "### Sorting Scenario"
   ]
  },
  {
   "cell_type": "code",
   "execution_count": 81,
   "id": "f4bb7f82-cb9b-47d8-9757-8236940ec44c",
   "metadata": {},
   "outputs": [],
   "source": [
    "packaging_types_df = pd.read_csv(\"data/packaging_types.csv\")\n",
    "collection_recyclate_df = pd.read_csv(\"data/collection_Recyclate.csv\")\n",
    "collection_msw_df = pd.read_csv(\"data/collection_MSW.csv\")"
   ]
  },
  {
   "cell_type": "code",
   "execution_count": 82,
   "id": "de15e39a-488e-4726-bd9c-75726f387c43",
   "metadata": {},
   "outputs": [],
   "source": [
    "import numpy as np\n",
    "import pandas as pd\n",
    "import re\n",
    "\n",
    "# ---- exact-key matcher (case/space insensitive, keeps stage prefixes) ----\n",
    "ekey = lambda s: str(s).strip().casefold()\n",
    "\n",
    "# ---- copies + normalized keys ----\n",
    "A_index_df = A_index_df.copy()\n",
    "packaging_types_df = packaging_types_df.copy()\n",
    "collection_msw_df = collection_msw_df.copy()\n",
    "\n",
    "A_index_df[\"prov_exact\"]         = A_index_df[\"provider name\"].map(ekey)\n",
    "packaging_types_df[\"prov_exact\"] = packaging_types_df[\"provider name\"].map(ekey)\n",
    "collection_msw_df[\"prov_exact\"]  = collection_msw_df[\"provider name\"].map(ekey)\n",
    "\n",
    "# If you know the 3 mapping columns, set them here, e.g.:\n",
    "# mapping_cols = [\"dest_1\", \"dest_2\", \"dest_3\"]\n",
    "# Otherwise, auto-detect up to 3 string columns besides 'provider name'\n",
    "mapping_cols = [c for c in packaging_types_df.columns\n",
    "                if c not in (\"provider name\", \"prov_exact\")\n",
    "                and pd.api.types.is_string_dtype(packaging_types_df[c])][:3]\n",
    "if not mapping_cols:\n",
    "    raise ValueError(\"Couldn't detect mapping columns; please set 'mapping_cols' explicitly.\")\n",
    "\n",
    "# Normalize destination columns\n",
    "for col in mapping_cols:\n",
    "    packaging_types_df[col + \"_exact\"] = packaging_types_df[col].map(ekey)\n",
    "\n",
    "# provider name -> list of integer indices in A (rows/cols)\n",
    "idx_map_exact = (\n",
    "    A_index_df.groupby(\"prov_exact\")[\"index\"]\n",
    "              .apply(lambda s: list(map(int, s)))\n",
    "              .to_dict()\n",
    ")\n",
    "\n",
    "# \"Use & Collection\" column index\n",
    "use_col = int(A_index_df.loc[A_index_df[\"provider name\"]==\"Use & Collection\",\"index\"].iloc[0])\n",
    "\n",
    "# ---- X: abs(A[row, use_col]) per packaging provider (exact match) ----\n",
    "X_by_src = {}\n",
    "for k in packaging_types_df[\"prov_exact\"].dropna().unique():\n",
    "    rows = idx_map_exact.get(k, [])\n",
    "    if rows:\n",
    "        r0 = int(rows[0])  # if multiple rows per provider, change to sum/mean if needed\n",
    "        X_by_src[k] = abs(float(A[r0, use_col]))\n",
    "\n",
    "# ---- Y: MSW \"Linear Economy\" per provider (exact match) ----\n",
    "Y_by_key = (collection_msw_df.dropna(subset=[\"prov_exact\"])\n",
    "            .groupby(\"prov_exact\")[\"Linear Economy\"]\n",
    "            .first()\n",
    "            .to_dict())\n",
    "\n",
    "# ---- zero out destination cells we're going to rewrite (avoid accumulation on reruns) ----\n",
    "dest_rows = set()\n",
    "for _, row in packaging_types_df.iterrows():\n",
    "    for col in mapping_cols:\n",
    "        dk = row.get(col + \"_exact\", None)\n",
    "        if dk in idx_map_exact:\n",
    "            dest_rows.update(idx_map_exact[dk])\n",
    "if dest_rows:\n",
    "    A[list(dest_rows), use_col] = 0.0\n",
    "\n",
    "# ---- assign: A[row, use_col] += X * Y for each mapped destination (exact match) ----\n",
    "for _, row in packaging_types_df.iterrows():\n",
    "    src_k = row[\"prov_exact\"]\n",
    "    X     = X_by_src.get(src_k)\n",
    "    if X is None:\n",
    "        continue\n",
    "    for col in mapping_cols:\n",
    "        dk = row.get(col + \"_exact\", None)\n",
    "        if not dk:\n",
    "            continue\n",
    "        Y = Y_by_key.get(dk)\n",
    "        if Y is None or pd.isna(Y):\n",
    "            continue\n",
    "        contrib = float(abs(X) * float(Y))\n",
    "        for r in idx_map_exact.get(dk, []):\n",
    "            A[int(r), use_col] += contrib"
   ]
  },
  {
   "cell_type": "code",
   "execution_count": 83,
   "id": "a3514a58-fb20-47f2-9c54-c0dd6eeaf869",
   "metadata": {},
   "outputs": [],
   "source": [
    "# --- Recyclate pass: X * Y_recyclate added into A[:, use_col] ---\n",
    "\n",
    "collection_recyclate_df = collection_recyclate_df.copy()\n",
    "collection_recyclate_df[\"prov_exact\"] = collection_recyclate_df[\"provider name\"].map(ekey)\n",
    "\n",
    "# Y from recyclate\n",
    "Y_rec_by_key = (\n",
    "    collection_recyclate_df.dropna(subset=[\"prov_exact\"])\n",
    "    .groupby(\"prov_exact\")[\"Linear Economy\"]\n",
    "    .first()    # change to sum()/mean() if needed\n",
    "    .to_dict()\n",
    ")\n",
    "\n",
    "# Optionally clear destination cells before this pass (default = keep MSW values and add recyclate)\n",
    "reset_dest = False\n",
    "if reset_dest:\n",
    "    rec_dest_rows = set()\n",
    "    for _, row in packaging_types_df.iterrows():\n",
    "        for col in mapping_cols:\n",
    "            dk = row.get(col + \"_exact\", None)\n",
    "            rec_dest_rows.update(idx_map_exact.get(dk, []))\n",
    "    if rec_dest_rows:\n",
    "        A[np.array(sorted(rec_dest_rows), dtype=int), use_col] = 0.0\n",
    "\n",
    "# Write: A[row, use_col] += X * Y_recyclate\n",
    "for _, row in packaging_types_df.iterrows():\n",
    "    src_k = row[\"prov_exact\"]\n",
    "    X = X_by_src.get(src_k)\n",
    "    if X is None:\n",
    "        continue\n",
    "    for col in mapping_cols:\n",
    "        dk = row.get(col + \"_exact\", None)\n",
    "        if not dk:\n",
    "            continue\n",
    "        Y = Y_rec_by_key.get(dk)\n",
    "        if Y is None or pd.isna(Y):\n",
    "            continue\n",
    "        contrib = float(abs(X) * float(Y))\n",
    "        for r in idx_map_exact.get(dk, []):\n",
    "            A[int(r), use_col] += contrib"
   ]
  },
  {
   "cell_type": "markdown",
   "id": "f0f031fb-0b0b-45fb-873b-78ace2a13df2",
   "metadata": {
    "tags": []
   },
   "source": [
    "### Setting up A design"
   ]
  },
  {
   "cell_type": "code",
   "execution_count": 79,
   "id": "afeb7d3b-a0be-41dc-8e97-516df615de9e",
   "metadata": {},
   "outputs": [],
   "source": [
    "import numpy as np\n",
    "import pandas as pd\n",
    "\n",
    "# --- VALIDATION ---\n",
    "if not isinstance(A, np.ndarray) or A.ndim != 2:\n",
    "    raise ValueError(\"A must be a 2D NumPy array.\")\n",
    "n, m = A.shape\n",
    "if n != m:\n",
    "    raise ValueError(f\"A must be square; got {A.shape}.\")\n",
    "need = {\"index\", \"provider name\", \"flow name\"}\n",
    "if not need.issubset(A_index_df.columns):\n",
    "    raise ValueError(f\"A_index_df missing columns: {need - set(A_index_df.columns)}\")\n",
    "\n",
    "# ensure indices cover 0..n-1 uniquely\n",
    "idx = pd.to_numeric(A_index_df[\"index\"], errors=\"coerce\").astype(\"Int64\")\n",
    "if idx.isna().any():\n",
    "    raise ValueError(\"A_index_df['index'] contains non-integer values.\")\n",
    "idx_vals = idx.astype(int).to_numpy()\n",
    "if len(np.unique(idx_vals)) != len(idx_vals):\n",
    "    dupes = A_index_df[A_index_df.duplicated(\"index\", keep=False)].sort_values(\"index\")\n",
    "    raise ValueError(f\"Duplicate indices in A_index_df['index']:\\n{dupes}\")\n",
    "if idx_vals.min() != 0 or idx_vals.max() != n - 1:\n",
    "    raise ValueError(f\"A_index_df['index'] must span 0..{n-1}.\")\n",
    "\n",
    "# --- build label arrays aligned by index ---\n",
    "providers = [\"\"] * n\n",
    "flows     = [\"\"] * n\n",
    "for _, r in A_index_df.iterrows():\n",
    "    i = int(r[\"index\"])\n",
    "    providers[i] = str(r[\"provider name\"])\n",
    "    flows[i]     = str(r[\"flow name\"])\n",
    "\n",
    "# --- assemble (no titles, no extra columns) ---\n",
    "rows = []\n",
    "# first two header rows (blank first two cells, then provider and flow names)\n",
    "rows.append([\"\", \"\"] + providers)\n",
    "rows.append([\"\", \"\"] + flows)\n",
    "\n",
    "# numeric block with matching row labels\n",
    "for i in range(n):\n",
    "    rows.append([providers[i], flows[i]] + A[i, :].tolist())\n",
    "\n",
    "final_df = pd.DataFrame(rows)\n",
    "\n",
    "# optional: export\n",
    "# final_df.to_csv(\"A_full_labeled_aligned_clean.csv\", index=False, header=False)\n",
    "A_design_df = final_df"
   ]
  },
  {
   "cell_type": "code",
   "execution_count": 80,
   "id": "de890c5c-c023-4279-9986-ba8811ba7961",
   "metadata": {},
   "outputs": [],
   "source": [
    "A_design_df.to_csv(\"A_design_df.csv\", index=False)"
   ]
  },
  {
   "cell_type": "code",
   "execution_count": 48,
   "id": "132e128d-1756-468c-8850-6952a22b72b3",
   "metadata": {},
   "outputs": [],
   "source": [
    "decision_variables_all = pd.read_csv(\"data/decision_variables_all.csv\")\n",
    "new_flow_df = pd.read_csv(\"data/new_flow.csv\")"
   ]
  },
  {
   "cell_type": "code",
   "execution_count": 49,
   "id": "5d4975e0-3761-4382-90d9-8d4addd5d845",
   "metadata": {},
   "outputs": [],
   "source": [
    "import pandas as pd\n",
    "import numpy as np\n",
    "\n",
    "def apply_levers_add_and_populate(\n",
    "    A_design_df: pd.DataFrame,\n",
    "    decision_variables_all: pd.DataFrame,\n",
    "    new_flow_df: pd.DataFrame,\n",
    "    activate: list,\n",
    "    case_insensitive: bool = False,\n",
    "    overwrite: bool = True,\n",
    "):\n",
    "    \"\"\"\n",
    "    Full pipeline:\n",
    "      1) Remove rows from A_design_df where 'Input parameters names' has ANY activated lever == 1\n",
    "         (match against the FIRST COLUMN of A_design_df; header rows 0,1 are preserved)\n",
    "      2) From removed rows, capture UNIQUE PROVIDER NAMES (col 0)\n",
    "      3) Map providers via new_flow_df (Process -> Flow name), dedupe flows, append blank rows:\n",
    "            [\"\", <Flow name>, 0, 0, ...]\n",
    "      4) Populate those new rows: for each matching Flow name in new_flow_df,\n",
    "         write -1 (input) or +1 (output) at the column whose header (row 0) equals 'Process'.\n",
    "\n",
    "    Expected layout for A_design_df:\n",
    "      - Row 0: ['', ''] + provider headers across (cols 2..end)\n",
    "      - Row 1: ['', ''] + flow headers across    (cols 2..end)\n",
    "      - Row 2+: [provider_name, flow_name] + numeric (cols 2..end)\n",
    "\n",
    "    Returns\n",
    "    -------\n",
    "    updated_df : pd.DataFrame\n",
    "    report : dict with counts/diagnostics\n",
    "    \"\"\"\n",
    "\n",
    "    # --------- validation ---------\n",
    "    if A_design_df.shape[0] < 2 or A_design_df.shape[1] < 3:\n",
    "        raise ValueError(\"A_design_df must have 2 header rows and >=3 columns.\")\n",
    "    if \"Input parameters names\" not in decision_variables_all.columns:\n",
    "        raise ValueError(\"decision_variables_all must include 'Input parameters names'.\")\n",
    "    need_nf = {\"Flow name\", \"Process\", \"Type of flow\"}\n",
    "    if not need_nf.issubset(new_flow_df.columns):\n",
    "        raise ValueError(f\"new_flow_df must include columns: {need_nf}\")\n",
    "\n",
    "    df  = A_design_df.copy()\n",
    "    dva = decision_variables_all.copy()\n",
    "    nf  = new_flow_df.copy()\n",
    "\n",
    "    # --------- step 1: removal (by active levers) ---------\n",
    "    lever_cols = [c for c in activate if c in dva.columns]\n",
    "    if not lever_cols:\n",
    "        raise ValueError(f\"No requested levers found in decision_variables_all. Requested: {activate}\")\n",
    "\n",
    "    for c in lever_cols:\n",
    "        dva[c] = pd.to_numeric(dva[c], errors=\"coerce\").fillna(0).astype(int)\n",
    "\n",
    "    # Key choice for matching (exact vs case-insensitive)\n",
    "    if case_insensitive:\n",
    "        norm = lambda s: str(s).strip().casefold()\n",
    "        dva[\"_name\"] = dva[\"Input parameters names\"].map(norm)\n",
    "        first_col    = df.iloc[:, 0].astype(str).map(norm)\n",
    "    else:\n",
    "        dva[\"_name\"] = dva[\"Input parameters names\"].astype(str)\n",
    "        first_col    = df.iloc[:, 0].astype(str)\n",
    "\n",
    "    to_remove_names = set(dva.loc[dva[lever_cols].sum(axis=1) > 0, \"_name\"])\n",
    "\n",
    "    is_header = df.index.isin([0, 1])\n",
    "    remove_mask = (~is_header) & (first_col.isin(to_remove_names))\n",
    "\n",
    "    # capture removed providers (first column) & rows count\n",
    "    removed_rows_count = int(remove_mask.sum())\n",
    "    removed_providers = (\n",
    "        df.loc[remove_mask, df.columns[0]].dropna().astype(str).unique().tolist()\n",
    "    )\n",
    "    removed_providers = sorted(set(removed_providers))\n",
    "\n",
    "    # keep flow names too, if you want them for debugging\n",
    "    removed_flows_dbg = (\n",
    "        df.loc[remove_mask, df.columns[1]].dropna().astype(str).unique().tolist()\n",
    "    )\n",
    "\n",
    "    filtered_df = df.loc[~remove_mask].reset_index(drop=True)\n",
    "\n",
    "    # --------- step 2: provider -> flow mapping, add blank rows ---------\n",
    "    if case_insensitive:\n",
    "        norm = lambda s: str(s).strip().casefold()\n",
    "        provider_keys = set(map(norm, removed_providers))\n",
    "        nf[\"_proc\"] = nf[\"Process\"].astype(str).map(norm)\n",
    "        flows_to_add = nf.loc[nf[\"_proc\"].isin(provider_keys), \"Flow name\"].astype(str).unique().tolist()\n",
    "    else:\n",
    "        provider_keys = set(map(str, removed_providers))\n",
    "        flows_to_add = nf.loc[nf[\"Process\"].astype(str).isin(provider_keys), \"Flow name\"].astype(str).unique().tolist()\n",
    "\n",
    "    flows_to_add = sorted(set(flows_to_add))\n",
    "\n",
    "    numeric_len = filtered_df.shape[1] - 2\n",
    "    zero_row = [0.0] * numeric_len\n",
    "    new_rows = [[\"\", flow] + zero_row for flow in flows_to_add]\n",
    "\n",
    "    if new_rows:\n",
    "        add_df = pd.DataFrame(new_rows, columns=filtered_df.columns)\n",
    "        with_added_df = pd.concat([filtered_df, add_df], ignore_index=True)\n",
    "    else:\n",
    "        with_added_df = filtered_df.copy()\n",
    "\n",
    "    # --------- step 3: populate the newly added rows ---------\n",
    "    # Build header map from row 0\n",
    "    if case_insensitive:\n",
    "        norm = lambda s: str(s).strip().casefold()\n",
    "        headers_pretty = with_added_df.iloc[0, 2:].astype(str).tolist()\n",
    "        header_keys    = [norm(h) for h in headers_pretty]\n",
    "        header_to_col  = {k: 2 + i for i, k in enumerate(header_keys)}\n",
    "        nf[\"_flow_key\"] = nf[\"Flow name\"].astype(str).map(norm)\n",
    "        nf[\"_proc_key\"] = nf[\"Process\"].astype(str).map(norm)\n",
    "        flow_key = lambda x: norm(str(x))\n",
    "        proc_key = lambda x: norm(str(x))\n",
    "        proc_display = lambda r: str(r[\"Process\"])\n",
    "    else:\n",
    "        headers_pretty = with_added_df.iloc[0, 2:].astype(str).tolist()\n",
    "        header_to_col  = {h: 2 + i for i, h in enumerate(headers_pretty)}\n",
    "        nf[\"_flow_key\"] = nf[\"Flow name\"].astype(str)\n",
    "        nf[\"_proc_key\"] = nf[\"Process\"].astype(str)\n",
    "        flow_key = lambda x: str(x)\n",
    "        proc_key = lambda x: str(x)\n",
    "        proc_display = lambda r: str(r[\"Process\"])\n",
    "\n",
    "    # mark the newly added rows: provider label blank & index >= 2\n",
    "    first_col_after = with_added_df.iloc[:, 0].astype(str)\n",
    "    is_added_row = (with_added_df.index >= 2) & (first_col_after.str.strip() == \"\")\n",
    "    target_idxs = with_added_df.index[is_added_row].tolist()\n",
    "\n",
    "    rows_populated = 0\n",
    "    skipped_no_matches = []  # flows with no new_flow_df rows\n",
    "    skipped_no_column  = []  # (process, flow) when process header not found\n",
    "    skipped_bad_type   = []  # (process, flow, type)\n",
    "\n",
    "    for i in target_idxs:\n",
    "        flow_label = str(with_added_df.iat[i, 1])\n",
    "        if not flow_label:\n",
    "            continue\n",
    "\n",
    "        sub = nf.loc[nf[\"_flow_key\"] == flow_key(flow_label)]\n",
    "        if sub.empty:\n",
    "            skipped_no_matches.append(flow_label)\n",
    "            continue\n",
    "\n",
    "        wrote_any = False\n",
    "        for _, r in sub.iterrows():\n",
    "            typ = str(r[\"Type of flow\"]).strip().casefold()\n",
    "            if typ == \"input\":\n",
    "                val = +1.0\n",
    "            elif typ == \"output\":\n",
    "                val = -1.0\n",
    "            else:\n",
    "                skipped_bad_type.append((proc_display(r), flow_label, r[\"Type of flow\"]))\n",
    "                continue\n",
    "\n",
    "            # find target column (row-0 header == Process)\n",
    "            col_j = header_to_col.get(proc_key(r[\"Process\"])) if case_insensitive else header_to_col.get(r[\"Process\"])\n",
    "            if col_j is None:\n",
    "                skipped_no_column.append((proc_display(r), flow_label))\n",
    "                continue\n",
    "\n",
    "            current = with_added_df.iat[i, col_j]\n",
    "            if overwrite or (pd.isna(current) or float(current) == 0.0):\n",
    "                with_added_df.iat[i, col_j] = val\n",
    "                wrote_any = True\n",
    "\n",
    "        if wrote_any:\n",
    "            rows_populated += 1\n",
    "\n",
    "    updated_df = with_added_df.reset_index(drop=True)\n",
    "\n",
    "    # --------- report ---------\n",
    "    report = {\n",
    "        \"requested_levers\": lever_cols,\n",
    "        \"removed_rows_count\": removed_rows_count,\n",
    "        \"removed_providers_unique\": len(removed_providers),\n",
    "        \"removed_providers\": removed_providers,\n",
    "        \"removed_flows_dbg\": removed_flows_dbg,\n",
    "        \"flows_to_add\": flows_to_add,\n",
    "        \"rows_added\": len(flows_to_add),\n",
    "        \"rows_populated\": rows_populated,\n",
    "        \"skipped_no_matches\": skipped_no_matches,\n",
    "        \"skipped_no_column\": skipped_no_column,\n",
    "        \"skipped_bad_type\": skipped_bad_type,\n",
    "    }\n",
    "    return updated_df, report\n",
    "\n",
    "\n",
    "def apply_levers_and_get_matrix(\n",
    "    A_design_df: pd.DataFrame,\n",
    "    decision_variables_all: pd.DataFrame,\n",
    "    new_flow_df: pd.DataFrame,\n",
    "    activate: list,\n",
    "    case_insensitive: bool = False,\n",
    "    overwrite: bool = True,\n",
    "):\n",
    "    \"\"\"\n",
    "    Wrapper that:\n",
    "      - runs apply_levers_add_and_populate\n",
    "      - extracts the numeric submatrix from row 3, col 3 onward\n",
    "      - returns: updated_df, report, numeric_subdf, numeric_matrix (np.ndarray)\n",
    "    \"\"\"\n",
    "    updated_df, report = apply_levers_add_and_populate(\n",
    "        A_design_df=A_design_df,\n",
    "        decision_variables_all=decision_variables_all,\n",
    "        new_flow_df=new_flow_df,\n",
    "        activate=activate,\n",
    "        case_insensitive=case_insensitive,\n",
    "        overwrite=overwrite,\n",
    "    )\n",
    "\n",
    "    # Extract matrix from 3rd row and 3rd column onward, coerce to numeric\n",
    "    A_raw = updated_df.iloc[2:, 2:]\n",
    "    A_numeric = A_raw.apply(pd.to_numeric, errors=\"coerce\")\n",
    "    A_matrix = A_numeric.to_numpy()\n",
    "\n",
    "    return updated_df, report, A_numeric, A_matrix"
   ]
  },
  {
   "cell_type": "markdown",
   "id": "7527b251-e8d4-42e3-8647-d3b235044972",
   "metadata": {
    "tags": []
   },
   "source": [
    "### optimization "
   ]
  },
  {
   "cell_type": "code",
   "execution_count": 84,
   "id": "bcc79364-203e-4d6b-b3ec-8ad72d26db74",
   "metadata": {},
   "outputs": [],
   "source": [
    "import numpy as np\n",
    "import pandas as pd\n",
    "import matplotlib.pyplot as plt\n",
    "import copy\n",
    "from pyomo.environ import *\n",
    "from pyomo.environ import RangeSet\n",
    "from pyomo.environ import value\n",
    "import plotly.graph_objects as go"
   ]
  },
  {
   "cell_type": "code",
   "execution_count": 53,
   "id": "883f5980-c2f7-44b4-a79c-f7c4e5a5c61a",
   "metadata": {},
   "outputs": [],
   "source": [
    "# ------------------ example call ------------------\n",
    "# Options:\n",
    "# Circularity\n",
    "# Upstream Chemicals\n",
    "# Electricity Source\n",
    "# Carbon Capture\n",
    "# Microplastic Treatment\n",
    "\n",
    "activated = [\"Upstream Chemicals\"]\n",
    "\n",
    "A_design_final_df, rep, A_numeric_df, A_design_matrix = apply_levers_and_get_matrix(\n",
    "    A_design_df,\n",
    "    decision_variables_all,\n",
    "    new_flow_df,\n",
    "    activate=activated,\n",
    "    case_insensitive=True,  # robust against case/space differences\n",
    "    overwrite=True          # set to False to only fill zeros\n",
    ")"
   ]
  },
  {
   "cell_type": "code",
   "execution_count": 54,
   "id": "38e6c660-cd61-432a-88d9-cb28acc547bf",
   "metadata": {},
   "outputs": [
    {
     "data": {
      "text/plain": [
       "(648, 658)"
      ]
     },
     "execution_count": 54,
     "metadata": {},
     "output_type": "execute_result"
    }
   ],
   "source": [
    "np.shape(A_design_matrix)"
   ]
  },
  {
   "cell_type": "code",
   "execution_count": 85,
   "id": "8642fec0-3eda-445d-a501-1df445c469e8",
   "metadata": {},
   "outputs": [],
   "source": [
    "A_design = pd.read_csv(\"data/A_design.csv\", header=None).to_numpy()  "
   ]
  },
  {
   "cell_type": "code",
   "execution_count": 86,
   "id": "38471a7b-7644-44f7-914d-33779b5cd226",
   "metadata": {},
   "outputs": [
    {
     "data": {
      "text/plain": [
       "(658, 658)"
      ]
     },
     "execution_count": 86,
     "metadata": {},
     "output_type": "execute_result"
    }
   ],
   "source": [
    "np.shape(A_design)"
   ]
  },
  {
   "cell_type": "code",
   "execution_count": null,
   "id": "9d1a5493-7774-495a-b747-19c861fe58e9",
   "metadata": {},
   "outputs": [],
   "source": [
    "# write with full precision\n",
    "A_design_df.to_csv(\"data/A_design.csv\", index=False, header=False, float_format=\"%.17g\")\n",
    "\n",
    "# read and re-extract cleanly\n",
    "df = pd.read_csv(\"A_full.csv\", header=None, dtype=str)           # read as strings\n",
    "A2 = df.iloc[2:, 2:].apply(pd.to_numeric, errors=\"raise\").to_numpy()"
   ]
  },
  {
   "cell_type": "code",
   "execution_count": 87,
   "id": "0470f335-e7a6-4a73-abe3-ecbdb0cc3c4f",
   "metadata": {},
   "outputs": [],
   "source": [
    "A_design_matrix = A_design"
   ]
  },
  {
   "cell_type": "code",
   "execution_count": 88,
   "id": "8c6ceb4d-6b18-4770-9149-a308936bad32",
   "metadata": {},
   "outputs": [],
   "source": [
    "f_design = np.zeros(len(A_design_matrix))\n",
    "f_design[0] = 1 # Functional Unit (1 kg of packaging)"
   ]
  },
  {
   "cell_type": "code",
   "execution_count": 89,
   "id": "9ec3dc5c-ed29-46fd-bc89-6c5c0ed33a66",
   "metadata": {},
   "outputs": [],
   "source": [
    "C_gwp = C[0] # Characterization factors for 0: GHG emissions 1: Biodiversity loss 2: human health impacts\n",
    "coef_gwp = C_gwp@B"
   ]
  },
  {
   "cell_type": "code",
   "execution_count": 90,
   "id": "2a8a8846-1d09-4dd8-bbcb-54a3c5125117",
   "metadata": {},
   "outputs": [
    {
     "data": {
      "text/plain": [
       "{'Problem': [{'Name': 'x659', 'Lower bound': 81.47339008803415, 'Upper bound': 81.47339008803415, 'Number of objectives': 1, 'Number of constraints': 1317, 'Number of variables': 659, 'Number of binary variables': 0, 'Number of integer variables': 0, 'Number of continuous variables': 659, 'Number of nonzeros': 4072, 'Sense': 'minimize'}], 'Solver': [{'Status': 'ok', 'Return code': '0', 'Message': 'Model was solved to optimality (subject to tolerances), and an optimal solution is available.', 'Termination condition': 'optimal', 'Termination message': 'Model was solved to optimality (subject to tolerances), and an optimal solution is available.', 'Wall time': '0.011189937591552734', 'Error rc': 0, 'Time': 0.19107675552368164}], 'Solution': [OrderedDict([('number of solutions', 0), ('number of solutions displayed', 0)])]}"
      ]
     },
     "execution_count": 90,
     "metadata": {},
     "output_type": "execute_result"
    }
   ],
   "source": [
    "#Model Formulation\n",
    "# Create the model\n",
    "model = ConcreteModel()\n",
    "all_s_indices = []\n",
    "all_s_indices = list(range(1, len(np.transpose(A_design_matrix))+1))\n",
    "positive_s_indices = all_s_indices\n",
    "\n",
    "# Define the decision variable\n",
    "model.set_s = RangeSet(len(np.transpose(A_design_matrix)))\n",
    "model.s = Var(model.set_s)\n",
    "model.set_positive_scale = Set(initialize=positive_s_indices)\n",
    "\n",
    "def balance(model, p): # As = f\n",
    "    return sum(A_design_matrix[p-1,i-1]*model.s[i] for i in model.set_s) == f_design[p-1]\n",
    "model.set_balance = RangeSet(len(f_design))\n",
    "def positive_scale(model, i):\n",
    "    return (model.s[i]>=-0.03)\n",
    "\n",
    "model.balance_constraints = Constraint(model.set_balance, rule=balance)\n",
    "model.positive_scale_constraints = Constraint(model.set_positive_scale, rule=positive_scale)\n",
    "\n",
    "model.obj = Objective(expr = sum(coef_gwp[i-1]*model.s[i] for i in model.set_s), sense=minimize)\n",
    "#Solver\n",
    "solver = SolverFactory('gurobi')\n",
    "solver.solve(model) # solves and updates instance"
   ]
  },
  {
   "cell_type": "code",
   "execution_count": 107,
   "id": "5727aefa-3a2f-4d6a-9048-a8e3dedd9ec8",
   "metadata": {},
   "outputs": [
    {
     "data": {
      "text/plain": [
       "62.07931105838622"
      ]
     },
     "execution_count": 107,
     "metadata": {},
     "output_type": "execute_result"
    }
   ],
   "source": [
    "#total CO2 emission (kg CO2eq)\n",
    "GWP = value(model.obj)\n",
    "GWP"
   ]
  },
  {
   "cell_type": "code",
   "execution_count": 123,
   "id": "e5fff634-0438-4b3c-88f2-cac4c090b2da",
   "metadata": {},
   "outputs": [],
   "source": [
    "scaling_factors = []\n",
    "for j in model.s:\n",
    "    scaling_factors.append(model.s[j].value)  "
   ]
  },
  {
   "cell_type": "code",
   "execution_count": 101,
   "id": "9e0fe48d-529e-4844-ba65-10d7971d0d1f",
   "metadata": {},
   "outputs": [
    {
     "data": {
      "text/plain": [
       "(array([198]),)"
      ]
     },
     "execution_count": 101,
     "metadata": {},
     "output_type": "execute_result"
    }
   ],
   "source": [
    "np.where(scaling_factors==np.sort(scaling_factors)[0])"
   ]
  },
  {
   "cell_type": "code",
   "execution_count": 108,
   "id": "332ac460-af64-4295-a035-6a8d1d6cc7db",
   "metadata": {},
   "outputs": [],
   "source": [
    "A_design_final_df.to_csv(\"A_design_final_df.csv\", index=False)"
   ]
  },
  {
   "cell_type": "code",
   "execution_count": 127,
   "id": "178e209d-4cfd-423c-8094-f871b2fcee45",
   "metadata": {},
   "outputs": [
    {
     "data": {
      "text/plain": [
       "(658,)"
      ]
     },
     "execution_count": 127,
     "metadata": {},
     "output_type": "execute_result"
    }
   ],
   "source": [
    "scaling_factors)"
   ]
  },
  {
   "cell_type": "markdown",
   "id": "5172ec82-2ab2-4924-b51c-f2f329d19bab",
   "metadata": {},
   "source": [
    "# Visualization"
   ]
  },
  {
   "cell_type": "code",
   "execution_count": 77,
   "id": "fa8bd349-2e01-404b-ae9e-882d8bd3d941",
   "metadata": {},
   "outputs": [
    {
     "data": {
      "image/png": "[encoded data removed]",
      "text/plain": [
       "<Figure size 1600x500 with 4 Axes>"
      ]
     },
     "metadata": {},
     "output_type": "display_data"
    }
   ],
   "source": [
    "import matplotlib.pyplot as plt\n",
    "\n",
    "# Example values (replace with your actual variables)\n",
    "plastic_demand = 429   # MMT\n",
    "biodiversity_loss = phi[1]\n",
    "human_health = phi[2]\n",
    "ghg = phi[0]\n",
    "cost = total_variable_cost/1e9   # convert to Billion $\n",
    "\n",
    "# Prepare data\n",
    "metrics = [\n",
    "    (\"Marine biodiversity loss\", f\"{biodiversity_loss:,.2f}\", \"Potentially damaged species\"),\n",
    "    (\"Human health impacts\", f\"{human_health:,.2e}\", \"DALYs\"),\n",
    "    (\"Global warming potential\", f\"{ghg:,.2e}\", \"kg CO₂-eq\"),\n",
    "    (\"Total variable cost\", f\"${cost:,.2f}\", \"Billion USD\")\n",
    "]\n",
    "\n",
    "fig, axes = plt.subplots(1, 4, figsize=(16, 5))\n",
    "\n",
    "colors = [\"#1f77b4\", \"#ff7f0e\", \"#2ca02c\", \"#d62728\"]\n",
    "\n",
    "for ax, (title, value, unit), color in zip(axes, metrics, colors):\n",
    "    ax.set_facecolor(color)\n",
    "    ax.text(0.5, 0.6, value, ha=\"center\", va=\"center\", fontsize=14, weight=\"bold\", color=\"white\")\n",
    "    ax.text(0.5, 0.35, unit, ha=\"center\", va=\"center\", fontsize=10, color=\"white\")\n",
    "    ax.set_title(title, fontsize=11, color=\"white\", pad=10)\n",
    "    ax.set_xticks([])\n",
    "    ax.set_yticks([])\n",
    "    for spine in ax.spines.values():\n",
    "        spine.set_visible(False)\n",
    "\n",
    "# Add a big title with demand\n",
    "plt.suptitle(f\"Plastic packaging demand in 2025: {plastic_demand} MMT\",\n",
    "             fontsize=15, weight=\"bold\", y=1.05)\n",
    "\n",
    "plt.tight_layout()\n",
    "plt.show()"
   ]
  },
  {
   "cell_type": "code",
   "execution_count": 65,
   "id": "96f2adbc-9ddf-491c-b906-b9f86907ea21",
   "metadata": {},
   "outputs": [
    {
     "data": {
      "image/png": "[encoded data removed]",
      "text/plain": [
       "<Figure size 800x500 with 1 Axes>"
      ]
     },
     "metadata": {},
     "output_type": "display_data"
    }
   ],
   "source": [
    "import matplotlib.pyplot as plt\n",
    "\n",
    "# ---- use the grouped dataframe you already built ----\n",
    "df_grouped_sorted = df_grouped.sort_values(\"share_%\", ascending=False)\n",
    "\n",
    "# Top 5 contributors\n",
    "top5 = df_grouped_sorted.head(5).copy()\n",
    "\n",
    "# Add \"Remaining\"\n",
    "remaining_share = 100 - top5[\"share_%\"].sum()\n",
    "remaining_row = pd.DataFrame({\"grouped_name\": [\"Remaining\"], \"share_%\": [remaining_share]})\n",
    "\n",
    "plot_df = pd.concat([top5[[\"grouped_name\", \"share_%\"]], remaining_row], ignore_index=True)\n",
    "\n",
    "# ---- plotting ----\n",
    "plt.figure(figsize=(8, 5))\n",
    "bars = plt.bar(plot_df[\"grouped_name\"], plot_df[\"share_%\"], color=\"steelblue\")\n",
    "\n",
    "# Annotate bars with percentages\n",
    "for bar, val in zip(bars, plot_df[\"share_%\"]):\n",
    "    plt.text(bar.get_x() + bar.get_width() / 2, bar.get_height(),\n",
    "             f\"{val:.1f}%\", ha=\"center\", va=\"bottom\", fontsize=9)\n",
    "\n",
    "plt.title(\"Top 5 GHG Contributors + Remaining\")\n",
    "plt.ylabel(\"Share of Total GHG (%)\")\n",
    "plt.xticks(rotation=30, ha=\"right\")\n",
    "plt.tight_layout()\n",
    "plt.show()\n"
   ]
  },
  {
   "cell_type": "code",
   "execution_count": 79,
   "id": "98123bcf-7e75-4c6b-957e-ac8d30011a75",
   "metadata": {},
   "outputs": [
    {
     "data": {
      "image/png": "[encoded data removed]",
      "text/plain": [
       "<Figure size 700x500 with 1 Axes>"
      ]
     },
     "metadata": {},
     "output_type": "display_data"
    }
   ],
   "source": [
    "import matplotlib.pyplot as plt\n",
    "\n",
    "# ---- keys from your computed dicts ----\n",
    "micro_direct_key = \"microplastic_direct_enable\"\n",
    "micro_degrad_key = \"microplastic_degradation_enable\"\n",
    "\n",
    "# littering comes from the Use & Collection–only dict\n",
    "macro_litter = float(\n",
    "    macro_sums_mmt.get(\"macro_litter_enable\",\n",
    "                       macro_sums_mmt.get(\"macroplastic_enable\", 0.0))  # fallback\n",
    ")\n",
    "\n",
    "# total macro comes from the all-flows dict\n",
    "macro_total  = float(g_sums.get(\"macroplastic_enable\", 0.0))\n",
    "\n",
    "# if you also computed an explicit mismanaged key in g_sums, prefer it; otherwise derive\n",
    "macro_misman = float(g_sums.get(\"macro_mismanage_enable\", max(macro_total - macro_litter, 0.0)))\n",
    "\n",
    "# micro parts from g_sums (already in MMT)\n",
    "micro_direct = float(g_sums.get(micro_direct_key, 0.0))\n",
    "micro_degrad = float(g_sums.get(micro_degrad_key, 0.0))\n",
    "\n",
    "labels      = [\"Microplastic\", \"Macroplastic\"]\n",
    "bottom_vals = [micro_degrad,   macro_misman]\n",
    "top_vals    = [micro_direct,   macro_litter]\n",
    "\n",
    "colors_bottom = [\"#8FBBD9\", \"#FDBE85\"]  # degradation, mismanaged\n",
    "colors_top    = [\"#1F77B4\", \"#FD8D3C\"]  # direct/pellets, littering\n",
    "\n",
    "x = [0, 1]\n",
    "plt.figure(figsize=(7, 5))\n",
    "\n",
    "bars_bottom = plt.bar(x, bottom_vals, color=colors_bottom)\n",
    "bars_top    = plt.bar(x, top_vals, bottom=bottom_vals, color=colors_top)\n",
    "\n",
    "# Total for each stacked bar\n",
    "totals = [bottom_vals[i] + top_vals[i] for i in range(len(labels))]\n",
    "\n",
    "# Annotate with percentages inside each bar segment\n",
    "for i, bars in enumerate((bars_bottom, bars_top)):\n",
    "    for j, b in enumerate(bars):\n",
    "        h = b.get_height()\n",
    "        if h > 0:\n",
    "            share = h / totals[j] * 100\n",
    "            plt.text(\n",
    "                b.get_x() + b.get_width()/2,\n",
    "                b.get_y() + h/2,          # halfway inside the bar segment\n",
    "                f\"{share:.1f}%\",\n",
    "                ha=\"center\", va=\"center\", fontsize=9, color=\"white\", weight=\"bold\"\n",
    "            )\n",
    "\n",
    "plt.xticks(x, labels)\n",
    "plt.ylabel(\"Million metric tons (MMT)\")\n",
    "plt.title(\"Marine Micro & Macro Plastic Pollution Breakdown\")\n",
    "plt.legend(\n",
    "    [bars_bottom[0], bars_bottom[1], bars_top[0], bars_top[1]],\n",
    "    [\"Micro: Degradation\", \"Macro: Mismanaged\",\n",
    "     \"Micro: Direct (Mismanaged pellets)\", \"Macro: Littering (Consumer)\"],\n",
    "    loc=\"center left\", bbox_to_anchor=(1.0, 0.5)\n",
    ")\n",
    "\n",
    "plt.tight_layout()\n",
    "plt.show()\n"
   ]
  },
  {
   "cell_type": "code",
   "execution_count": 75,
   "id": "d615dc56-59c2-49fe-b8dd-30c6a87d07e9",
   "metadata": {},
   "outputs": [
    {
     "data": {
      "image/png": "[encoded data removed]",
      "text/plain": [
       "<Figure size 600x500 with 1 Axes>"
      ]
     },
     "metadata": {},
     "output_type": "display_data"
    }
   ],
   "source": [
    "import matplotlib.pyplot as plt\n",
    "\n",
    "# Example: replace with your actual computed values\n",
    "# phi1_micro = ...\n",
    "# phi1_macro = ...\n",
    "# phi = [...]\n",
    "\n",
    "# shares in %\n",
    "share_micro = phi1_micro / phi[1] * 100 if phi[1] != 0 else 0\n",
    "share_macro = phi1_macro / phi[1] * 100 if phi[1] != 0 else 0\n",
    "\n",
    "# plot absolute numbers (species potentially damaged), but label with %\n",
    "vals = [phi1_micro, phi1_macro]\n",
    "labels = [\"Microplastics\", \"Macroplastics\"]\n",
    "colors = [\"#1F77B4\", \"#FD8D3C\"]\n",
    "\n",
    "plt.figure(figsize=(6,5))\n",
    "bars = plt.bar(labels, vals, color=colors)\n",
    "\n",
    "# annotate with % share inside bars\n",
    "for bar, share in zip(bars, [share_micro, share_macro]):\n",
    "    h = bar.get_height()\n",
    "    plt.text(bar.get_x() + bar.get_width()/2,\n",
    "             h/2, f\"{share:.1f}%\",   # percent label\n",
    "             ha=\"center\", va=\"center\", color=\"black\", fontsize=11, weight=\"bold\")\n",
    "\n",
    "plt.ylabel(\"Potentially damaged species (#)\")\n",
    "plt.title(\"Marine Biodiversity Loss from Micro vs. Macro Plastics\")\n",
    "plt.tight_layout()\n",
    "plt.show()"
   ]
  },
  {
   "cell_type": "code",
   "execution_count": null,
   "id": "0d4c8483-9055-4f58-8812-83f7139248da",
   "metadata": {},
   "outputs": [],
   "source": []
  }
 ],
 "metadata": {
  "kernelspec": {
   "display_name": "Python 3 (ipykernel)",
   "language": "python",
   "name": "python3"
  },
  "language_info": {
   "codemirror_mode": {
    "name": "ipython",
    "version": 3
   },
   "file_extension": ".py",
   "mimetype": "text/x-python",
   "name": "python",
   "nbconvert_exporter": "python",
   "pygments_lexer": "ipython3",
   "version": "3.9.13"
  }
 },
 "nbformat": 4,
 "nbformat_minor": 5
}
