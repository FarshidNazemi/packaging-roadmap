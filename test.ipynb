{
 "cells": [
  {
   "cell_type": "code",
   "execution_count": 1,
   "id": "4f32598c-c7da-4e6a-baba-ce81609643d9",
   "metadata": {},
   "outputs": [],
   "source": [
    "import pandas as pd\n",
    "import numpy as np"
   ]
  },
  {
   "cell_type": "code",
   "execution_count": 2,
   "id": "317cbd1c-cf83-4c5c-b020-f888f300682b",
   "metadata": {},
   "outputs": [],
   "source": [
    "A_df = pd.read_csv(\"data/A.csv\", header=None)\n",
    "B_df = pd.read_csv(\"data/B.csv\", header=None)\n",
    "C_df = pd.read_csv(\"data/C.csv\", header=None)\n",
    "\n",
    "# Convert all string-looking numbers to floats\n",
    "A = A_df.apply(pd.to_numeric, errors='coerce').values\n",
    "B = B_df.apply(pd.to_numeric, errors='coerce').values\n",
    "C = C_df.apply(pd.to_numeric, errors='coerce').values"
   ]
  },
  {
   "cell_type": "code",
   "execution_count": 3,
   "id": "e7a29d4e-491b-4db8-8940-f27b33fc2432",
   "metadata": {},
   "outputs": [],
   "source": [
    "A_index_df = pd.read_csv(\"data/index_A.csv\")\n",
    "B_index_df = pd.read_csv(\"data/index_B.csv\")\n",
    "C_index_df = pd.read_csv(\"data/index_C.csv\")"
   ]
  },
  {
   "cell_type": "code",
   "execution_count": 4,
   "id": "ba211853-68d5-43bb-86f3-d0fa12ad97bd",
   "metadata": {},
   "outputs": [],
   "source": [
    "A_foreground_df = pd.read_csv(\"data/Foreground_A.csv\")"
   ]
  },
  {
   "cell_type": "markdown",
   "id": "cfd3c91c-c688-4845-9dd3-0047aa3c84bc",
   "metadata": {},
   "source": [
    "# Removing Transportation (deregionalization)"
   ]
  },
  {
   "cell_type": "code",
   "execution_count": 5,
   "id": "ba0c573d-f4af-410f-b4b8-73eb44593f54",
   "metadata": {},
   "outputs": [],
   "source": [
    "A_transport_df = pd.read_csv(\"data/Transportation_A.csv\")"
   ]
  },
  {
   "cell_type": "code",
   "execution_count": 6,
   "id": "14477a7b-c1c3-4db9-a17a-d6fd552317c0",
   "metadata": {},
   "outputs": [],
   "source": [
    "# create a dict mapping each provider name to all its indices in A_index_df\n",
    "mapping = A_index_df.groupby('provider name')['index'].apply(list)\n",
    "\n",
    "# build a single flat list of all matching indices for the foreground processes\n",
    "matched_indices_transport = [\n",
    "    idx\n",
    "    for name in A_transport_df['provider name']\n",
    "    if name in mapping\n",
    "    for idx in mapping[name]\n",
    "]"
   ]
  },
  {
   "cell_type": "code",
   "execution_count": 7,
   "id": "3185e174-16e8-4be7-b1e4-bb93bfdba5d2",
   "metadata": {},
   "outputs": [],
   "source": [
    "import numpy as np\n",
    "\n",
    "# matched_indices_transport is the list of indices to remove\n",
    "to_drop = np.array(sorted(set(matched_indices_transport), key=int))\n",
    "\n",
    "# 1) Remove from A_index_df\n",
    "mask_keep = ~A_index_df['index'].isin(to_drop)\n",
    "A_index_df = A_index_df.loc[mask_keep].copy()\n",
    "\n",
    "# 2) Remove corresponding rows and columns from A\n",
    "A = np.delete(A, to_drop, axis=0)  # remove rows\n",
    "A = np.delete(A, to_drop, axis=1)  # remove columns\n",
    "\n",
    "# 3) Remove the same columns from B (keep rows)\n",
    "B = np.delete(B, to_drop, axis=1)\n",
    "\n",
    "# 4) Reset the index column in A_index_df\n",
    "A_index_df['index'] = np.arange(len(A_index_df), dtype=int)"
   ]
  },
  {
   "cell_type": "markdown",
   "id": "8b0c9543-2d28-4c36-9e6f-02c4f9afdf8c",
   "metadata": {},
   "source": [
    "## Aggregating electricity"
   ]
  },
  {
   "cell_type": "code",
   "execution_count": 8,
   "id": "80d9677d-e30f-49fd-9592-85e39589f1dc",
   "metadata": {},
   "outputs": [],
   "source": [
    "A_elec_df = pd.read_csv(\"data/Electricity_A.csv\")"
   ]
  },
  {
   "cell_type": "code",
   "execution_count": 9,
   "id": "1243f655-d9ab-449e-b82c-804562147bc7",
   "metadata": {},
   "outputs": [],
   "source": [
    "# Inputs assumed:\n",
    "# A : numeric numpy array (rows x cols)\n",
    "# A_index_df : DataFrame with columns [\"index\", \"provider name\", \"flow name\", ...]\n",
    "# A_elec_df : DataFrame with column [\"provider name\"] listing all electricity providers\n",
    "# The indices in A_index_df[\"index\"] align with both row and column positions of A.\n",
    "\n",
    "# 0) Build the set of electricity provider names\n",
    "elec_names = set(A_elec_df['provider name'].dropna().astype(str).unique())\n",
    "\n",
    "# 1) Find their indices in A_index_df\n",
    "elec_idx = A_index_df.loc[A_index_df['provider name'].astype(str).isin(elec_names), 'index'].astype(int).unique()\n",
    "\n",
    "# 2) Locate the mix row index (must exist)\n",
    "mix_name = \"Electricity Mix (Global)\"\n",
    "mix_rows = A_index_df.loc[A_index_df['provider name'] == mix_name, 'index'].astype(int).unique()\n",
    "if len(mix_rows) == 0:\n",
    "    raise ValueError(\"Electricity Mix (Global) not found in A_index_df['provider name'].\")\n",
    "mix_idx = int(mix_rows[0])\n",
    "\n",
    "# Ensure the mix row is not purged\n",
    "elec_idx_set = set(map(int, elec_idx))\n",
    "elec_idx_wo_mix = sorted(elec_idx_set - {mix_idx})\n",
    "\n",
    "# 3) Aggregate: add all electricity rows (except the mix row) into the mix row, column-wise\n",
    "if len(elec_idx_wo_mix) > 0:\n",
    "    # in case of NaNs\n",
    "    add_block = np.nansum(A[elec_idx_wo_mix, :], axis=0)\n",
    "    A[mix_idx, :] = np.nan_to_num(A[mix_idx, :]) + np.nan_to_num(add_block)\n",
    "\n",
    "# 4) Decide what to drop\n",
    "rows_to_drop = np.array(elec_idx_wo_mix, dtype=int)            # drop electricity rows except the mix row\n",
    "cols_to_drop = np.array(elec_idx_wo_mix, dtype=int)            # drop electricity columns except the mix column\n",
    "\n",
    "# (Optionally also drop the mix COLUMN; keep it if you want to retain that process as a column)\n",
    "# To ALSO drop the mix column, uncomment the next line:\n",
    "# cols_to_drop = np.array(sorted(elec_idx_set), dtype=int)\n",
    "\n",
    "# 5) Remove rows/columns from A\n",
    "if rows_to_drop.size > 0:\n",
    "    A = np.delete(A, rows_to_drop, axis=0)\n",
    "if cols_to_drop.size > 0:\n",
    "    A = np.delete(A, cols_to_drop, axis=1)\n",
    "\n",
    "# 6) Remove the same rows from A_index_df (only rows; columns in A_index_df are metadata)\n",
    "if len(elec_idx_wo_mix) > 0:\n",
    "    keep_mask = ~A_index_df['index'].astype(int).isin(elec_idx_wo_mix)\n",
    "    A_index_df = A_index_df.loc[keep_mask].copy()\n",
    "\n",
    "# 7) Reset the \"index\" column in A_index_df to reflect 0..n-1 after deletions\n",
    "A_index_df['index'] = np.arange(len(A_index_df), dtype=int)"
   ]
  },
  {
   "cell_type": "markdown",
   "id": "1002f8f6-b7a2-457b-84fd-122433189943",
   "metadata": {},
   "source": [
    "## Identifying background flows for cost calculation"
   ]
  },
  {
   "cell_type": "code",
   "execution_count": 10,
   "id": "25e83087-bf8e-4d50-981b-095c140e3f23",
   "metadata": {},
   "outputs": [],
   "source": [
    "# create a dict mapping each provider name to all its indices in A_index_df\n",
    "mapping = A_index_df.groupby('provider name')['index'].apply(list)\n",
    "\n",
    "# build a single flat list of all matching indices for the foreground processes\n",
    "matched_indices = [\n",
    "    idx\n",
    "    for name in A_foreground_df['provider name']\n",
    "    if name in mapping\n",
    "    for idx in mapping[name]\n",
    "]"
   ]
  },
  {
   "cell_type": "code",
   "execution_count": 11,
   "id": "b22183c7-8a09-4e02-99b7-6ef024317e50",
   "metadata": {},
   "outputs": [],
   "source": [
    "# A is your numeric numpy array (rows × columns)\n",
    "# matched_indices is the list of column indices of interest\n",
    "\n",
    "# dictionary: column index → list of non-zero row indices\n",
    "nonzero_rows = {col: list(np.nonzero(A[:, col])[0]) for col in matched_indices}"
   ]
  },
  {
   "cell_type": "code",
   "execution_count": 12,
   "id": "26472d18-61e3-4788-a3ef-f7bcd166eb47",
   "metadata": {},
   "outputs": [
    {
     "name": "stdout",
     "output_type": "stream",
     "text": [
      "[1, 3, 4, 5, 6, 7, 8, 9, 10, 12, 18, 19, 20, 21, 535, 27, 540, 29, 32, 35, 43, 46, 47, 48, 563, 567, 59, 63, 64, 65, 66, 67, 70, 71, 77, 79, 80, 81, 594, 596, 101, 104, 105, 110, 111, 115, 116, 117, 118, 119, 120, 122, 126, 127, 146, 171, 172, 173, 174, 175, 176, 179, 182, 184, 196, 207, 210, 215, 219, 222, 223, 224, 225, 236, 237, 264, 273, 288, 318, 319, 358, 366, 367, 374, 378, 380, 382, 383, 384, 387, 419, 420, 426, 429]\n"
     ]
    }
   ],
   "source": [
    "# foreground indices to exclude\n",
    "foreground_set = set(matched_indices)\n",
    "\n",
    "# collect all non-zero row indices from the matched columns\n",
    "all_nonzero = set()\n",
    "for col in matched_indices:\n",
    "    all_nonzero.update(np.nonzero(A[:, col])[0])\n",
    "\n",
    "# remove overlaps with foreground indices\n",
    "filtered_nonzero_rows = list(all_nonzero - foreground_set)\n",
    "\n",
    "print(filtered_nonzero_rows)"
   ]
  },
  {
   "cell_type": "code",
   "execution_count": 15,
   "id": "fd4a51dd-0bce-412e-8565-2546b418a2c2",
   "metadata": {},
   "outputs": [],
   "source": [
    "wanted = pd.Series(filtered_nonzero_rows, dtype=int)\n",
    "result_df = (\n",
    "    A_index_df.loc[A_index_df['index'].astype(int).isin(wanted),\n",
    "                   ['index', 'provider name', 'flow name']]\n",
    "    .reset_index(drop=True)\n",
    ")"
   ]
  },
  {
   "cell_type": "code",
   "execution_count": 16,
   "id": "ad14d4f5-9290-482a-8970-6e65992c286e",
   "metadata": {},
   "outputs": [
    {
     "data": {
      "text/html": [
       "<div>\n",
       "<style scoped>\n",
       "    .dataframe tbody tr th:only-of-type {\n",
       "        vertical-align: middle;\n",
       "    }\n",
       "\n",
       "    .dataframe tbody tr th {\n",
       "        vertical-align: top;\n",
       "    }\n",
       "\n",
       "    .dataframe thead th {\n",
       "        text-align: right;\n",
       "    }\n",
       "</style>\n",
       "<table border=\"1\" class=\"dataframe\">\n",
       "  <thead>\n",
       "    <tr style=\"text-align: right;\">\n",
       "      <th></th>\n",
       "      <th>index</th>\n",
       "      <th>provider name</th>\n",
       "      <th>flow name</th>\n",
       "    </tr>\n",
       "  </thead>\n",
       "  <tbody>\n",
       "    <tr>\n",
       "      <th>0</th>\n",
       "      <td>1</td>\n",
       "      <td>Diesel, combusted in industrial equipment</td>\n",
       "      <td>Diesel, combusted in industrial equipment</td>\n",
       "    </tr>\n",
       "    <tr>\n",
       "      <th>1</th>\n",
       "      <td>3</td>\n",
       "      <td>Steam, purchased by containerboard mills</td>\n",
       "      <td>Steam, purchased by containerboard mills</td>\n",
       "    </tr>\n",
       "    <tr>\n",
       "      <th>2</th>\n",
       "      <td>4</td>\n",
       "      <td>Natural gas, processed, for material use, at p...</td>\n",
       "      <td>Natural gas, production mixture, to material use</td>\n",
       "    </tr>\n",
       "    <tr>\n",
       "      <th>3</th>\n",
       "      <td>5</td>\n",
       "      <td>Natural gas, combusted in industrial boiler</td>\n",
       "      <td>Natural gas, combusted in industrial boiler</td>\n",
       "    </tr>\n",
       "    <tr>\n",
       "      <th>4</th>\n",
       "      <td>6</td>\n",
       "      <td>LPG, combusted in industrial boiler, at pulp a...</td>\n",
       "      <td>LPG, combusted in industrial boiler, at pulp a...</td>\n",
       "    </tr>\n",
       "    <tr>\n",
       "      <th>...</th>\n",
       "      <td>...</td>\n",
       "      <td>...</td>\n",
       "      <td>...</td>\n",
       "    </tr>\n",
       "    <tr>\n",
       "      <th>89</th>\n",
       "      <td>540</td>\n",
       "      <td>LDPE Non-food Packaging Films</td>\n",
       "      <td>LDPE non-food packaging films</td>\n",
       "    </tr>\n",
       "    <tr>\n",
       "      <th>90</th>\n",
       "      <td>563</td>\n",
       "      <td>PP Non-food Packaging Films</td>\n",
       "      <td>PP non-food packaging films</td>\n",
       "    </tr>\n",
       "    <tr>\n",
       "      <th>91</th>\n",
       "      <td>567</td>\n",
       "      <td>Acetic acid, at plant</td>\n",
       "      <td>Acetic acid, at plant</td>\n",
       "    </tr>\n",
       "    <tr>\n",
       "      <th>92</th>\n",
       "      <td>594</td>\n",
       "      <td>Natural gas, combusted in industrial boiler, a...</td>\n",
       "      <td>Natural gas, combusted in industrial boiler, a...</td>\n",
       "    </tr>\n",
       "    <tr>\n",
       "      <th>93</th>\n",
       "      <td>596</td>\n",
       "      <td>Switchgrass, at conversion plant, 2022</td>\n",
       "      <td>Switchgrass, at conversion plant</td>\n",
       "    </tr>\n",
       "  </tbody>\n",
       "</table>\n",
       "<p>94 rows × 3 columns</p>\n",
       "</div>"
      ],
      "text/plain": [
       "    index                                      provider name  \\\n",
       "0       1          Diesel, combusted in industrial equipment   \n",
       "1       3           Steam, purchased by containerboard mills   \n",
       "2       4  Natural gas, processed, for material use, at p...   \n",
       "3       5        Natural gas, combusted in industrial boiler   \n",
       "4       6  LPG, combusted in industrial boiler, at pulp a...   \n",
       "..    ...                                                ...   \n",
       "89    540                     LDPE Non-food Packaging Films    \n",
       "90    563                       PP Non-food Packaging Films    \n",
       "91    567                              Acetic acid, at plant   \n",
       "92    594  Natural gas, combusted in industrial boiler, a...   \n",
       "93    596             Switchgrass, at conversion plant, 2022   \n",
       "\n",
       "                                            flow name  \n",
       "0           Diesel, combusted in industrial equipment  \n",
       "1            Steam, purchased by containerboard mills  \n",
       "2    Natural gas, production mixture, to material use  \n",
       "3         Natural gas, combusted in industrial boiler  \n",
       "4   LPG, combusted in industrial boiler, at pulp a...  \n",
       "..                                                ...  \n",
       "89                     LDPE non-food packaging films   \n",
       "90                       PP non-food packaging films   \n",
       "91                              Acetic acid, at plant  \n",
       "92  Natural gas, combusted in industrial boiler, a...  \n",
       "93                   Switchgrass, at conversion plant  \n",
       "\n",
       "[94 rows x 3 columns]"
      ]
     },
     "execution_count": 16,
     "metadata": {},
     "output_type": "execute_result"
    }
   ],
   "source": [
    "result_df"
   ]
  },
  {
   "cell_type": "code",
   "execution_count": 17,
   "id": "ca834235-cc09-43db-95ee-bad708c136e1",
   "metadata": {},
   "outputs": [],
   "source": [
    "result_df.to_csv('filtered_nonzero_rows_with_names.csv', index=False)"
   ]
  },
  {
   "cell_type": "code",
   "execution_count": null,
   "id": "18bc7309-fe53-479a-bbcb-098a860d44aa",
   "metadata": {},
   "outputs": [],
   "source": []
  }
 ],
 "metadata": {
  "kernelspec": {
   "display_name": "Python 3 (ipykernel)",
   "language": "python",
   "name": "python3"
  },
  "language_info": {
   "codemirror_mode": {
    "name": "ipython",
    "version": 3
   },
   "file_extension": ".py",
   "mimetype": "text/x-python",
   "name": "python",
   "nbconvert_exporter": "python",
   "pygments_lexer": "ipython3",
   "version": "3.9.13"
  }
 },
 "nbformat": 4,
 "nbformat_minor": 5
}
